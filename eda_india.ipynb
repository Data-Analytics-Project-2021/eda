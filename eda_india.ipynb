{
 "cells": [
  {
   "cell_type": "markdown",
   "id": "ca846c76",
   "metadata": {},
   "source": [
    "# EDA India"
   ]
  },
  {
   "cell_type": "markdown",
   "id": "1dbca23c",
   "metadata": {},
   "source": [
    "## Overview\n",
    "This notebook contains **Exploratory Data Analysis** and **Visualization** for the cases and vaccinations in India.\n",
    "\n",
    "**Sections:**\n",
    "1. [Data Ingestion](#Data_Ingestion)\n",
    "2. [Summary Statistics](#Summary_Statistics)\n",
    "3. [Visualization](#Visualization)\n",
    "4. Correlation\n",
    "5. Preprocessing\n",
    "6. [Conclusion](#Conclusion)"
   ]
  },
  {
   "cell_type": "markdown",
   "id": "5d84f3bc",
   "metadata": {},
   "source": [
    "***\n",
    "## Setup "
   ]
  },
  {
   "cell_type": "code",
   "execution_count": null,
   "id": "2462f92f",
   "metadata": {},
   "outputs": [],
   "source": [
    "!pip install seaborn"
   ]
  },
  {
   "cell_type": "code",
   "execution_count": null,
   "id": "fc051f8f",
   "metadata": {},
   "outputs": [],
   "source": [
    "import os\n",
    "from datetime import datetime\n",
    "import pandas as pd\n",
    "import seaborn as sns\n",
    "import matplotlib.pyplot as plt\n",
    "import numpy as np\n",
    "from scipy import stats"
   ]
  },
  {
   "cell_type": "markdown",
   "id": "26d55b7d",
   "metadata": {},
   "source": [
    "***\n",
    "<a id='Data_Ingestion'></a>\n",
    "## 1. Data Ingestion"
   ]
  },
  {
   "cell_type": "markdown",
   "id": "da5242d4",
   "metadata": {},
   "source": [
    "### 1.1 Getting daily state-wise cases for India"
   ]
  },
  {
   "cell_type": "code",
   "execution_count": null,
   "id": "3d4e5060",
   "metadata": {},
   "outputs": [],
   "source": [
    "cases = pd.read_csv(\"india_cases_12-10-2021.csv\")\n",
    "cases"
   ]
  },
  {
   "cell_type": "markdown",
   "id": "f2877872",
   "metadata": {},
   "source": [
    "### 1.2  Getting daily state-wise vaccinations for India"
   ]
  },
  {
   "cell_type": "code",
   "execution_count": null,
   "id": "1e19d314",
   "metadata": {},
   "outputs": [],
   "source": [
    "vacc = pd.read_csv(\"india_vaccines_12-10-2021.csv\")\n",
    "vacc"
   ]
  },
  {
   "cell_type": "markdown",
   "id": "9c8aa9c6",
   "metadata": {},
   "source": [
    "***\n",
    "<a id='Summary_Statistics'></a>\n",
    "# 2. Summary statistics"
   ]
  },
  {
   "cell_type": "code",
   "execution_count": null,
   "id": "ad580c53",
   "metadata": {
    "scrolled": false
   },
   "outputs": [],
   "source": [
    "# Summary statistics for cases in India\n",
    "cases.describe()"
   ]
  },
  {
   "cell_type": "code",
   "execution_count": null,
   "id": "a4c29dbb",
   "metadata": {},
   "outputs": [],
   "source": [
    "# Summary statistics for vaccines in India\n",
    "vacc.describe()"
   ]
  },
  {
   "cell_type": "markdown",
   "id": "a5748f60",
   "metadata": {},
   "source": [
    "<a id='missing_outliers'></a>\n",
    "### 2.2 How many missing data and outliers? "
   ]
  },
  {
   "cell_type": "code",
   "execution_count": null,
   "id": "1f2bcb4b",
   "metadata": {
    "scrolled": true
   },
   "outputs": [],
   "source": [
    "# Provides the number of missing values for cases in India\n",
    "cases.isnull().sum()"
   ]
  },
  {
   "cell_type": "code",
   "execution_count": null,
   "id": "f3556ed6",
   "metadata": {
    "scrolled": true
   },
   "outputs": [],
   "source": [
    "cases.isnull().sum().sum()"
   ]
  },
  {
   "cell_type": "code",
   "execution_count": null,
   "id": "d775740d",
   "metadata": {
    "scrolled": true
   },
   "outputs": [],
   "source": [
    "# Provides the number of missing values for vaccines in India\n",
    "vacc.isnull().sum()"
   ]
  },
  {
   "cell_type": "code",
   "execution_count": null,
   "id": "8d90fd10",
   "metadata": {},
   "outputs": [],
   "source": [
    "vacc.isnull().sum().sum()"
   ]
  },
  {
   "cell_type": "code",
   "execution_count": null,
   "id": "39e4819f",
   "metadata": {},
   "outputs": [],
   "source": [
    "z_confirm = np.abs(stats.zscore(cases['Confirmed']))\n",
    "print(z_confirm)"
   ]
  },
  {
   "cell_type": "code",
   "execution_count": null,
   "id": "722096ea",
   "metadata": {},
   "outputs": [],
   "source": [
    "z_adminstered = np.abs(stats.zscore(vacc['Total Doses Administered']))\n",
    "print(z_adminstered)"
   ]
  },
  {
   "cell_type": "code",
   "execution_count": null,
   "id": "185bc7d9",
   "metadata": {
    "scrolled": false
   },
   "outputs": [],
   "source": [
    "threshold = 3\n",
    "print(np.where(z_confirm>3))"
   ]
  },
  {
   "cell_type": "code",
   "execution_count": null,
   "id": "70ca89fe",
   "metadata": {},
   "outputs": [],
   "source": [
    "np.where(z_adminstered>3)"
   ]
  },
  {
   "cell_type": "markdown",
   "id": "de9e0a96",
   "metadata": {},
   "source": [
    "### 2.3 Any Inconsistent, Incomplete, duplicate or incorrect data"
   ]
  },
  {
   "cell_type": "code",
   "execution_count": null,
   "id": "d21e3ffa",
   "metadata": {},
   "outputs": [],
   "source": [
    "cases.duplicated().sum()"
   ]
  },
  {
   "cell_type": "code",
   "execution_count": null,
   "id": "74d28af3",
   "metadata": {},
   "outputs": [],
   "source": [
    "vacc.duplicated().sum()"
   ]
  },
  {
   "cell_type": "code",
   "execution_count": null,
   "id": "1f0af932",
   "metadata": {},
   "outputs": [],
   "source": [
    "incomplete_cases = cases.isnull().any(axis=1)\n",
    "incomplete_cases"
   ]
  },
  {
   "cell_type": "code",
   "execution_count": null,
   "id": "0af0c660",
   "metadata": {
    "scrolled": true
   },
   "outputs": [],
   "source": [
    "incomplete_vacc = vacc.isnull().any(axis=1)\n",
    "incomplete_vacc"
   ]
  },
  {
   "cell_type": "markdown",
   "id": "d83446b0",
   "metadata": {},
   "source": [
    "***\n",
    "<a id='Visualization'></a>\n",
    "## 3. Visualization"
   ]
  },
  {
   "cell_type": "markdown",
   "id": "c891ca60",
   "metadata": {},
   "source": [
    "### 3.1 Histograms"
   ]
  },
  {
   "cell_type": "code",
   "execution_count": null,
   "id": "e2d4907c",
   "metadata": {},
   "outputs": [],
   "source": [
    "histogram_filter_cases = cases[['Confirmed', 'Recovered']]\n",
    "sns.histplot(data=histogram_filter_cases, bins=30, kde=True)"
   ]
  },
  {
   "cell_type": "code",
   "execution_count": null,
   "id": "04866232",
   "metadata": {},
   "outputs": [],
   "source": [
    "histogram_filter_cases = cases[['Deaths']]\n",
    "sns.histplot(data=histogram_filter_cases, bins=30, kde=True)"
   ]
  },
  {
   "cell_type": "markdown",
   "id": "8763a472",
   "metadata": {},
   "source": [
    "### 3.2 Bar Charts"
   ]
  },
  {
   "cell_type": "code",
   "execution_count": null,
   "id": "fb689521",
   "metadata": {
    "scrolled": true
   },
   "outputs": [],
   "source": [
    "barchart_filter_cases = cases[['Confirmed', 'Recovered','Deaths']]\n",
    "sns.set_theme(style='whitegrid')\n",
    "sns.barplot(data=barchart_filter_cases)"
   ]
  },
  {
   "cell_type": "code",
   "execution_count": null,
   "id": "82bd898a",
   "metadata": {
    "scrolled": true
   },
   "outputs": [],
   "source": [
    "barchart_filter_vacc = vacc[['First Dose Administered', 'Second Dose Administered']]\n",
    "sns.set_theme(style='whitegrid')\n",
    "sns.barplot(data=barchart_filter_vacc)"
   ]
  },
  {
   "cell_type": "code",
   "execution_count": null,
   "id": "f6c6169e",
   "metadata": {},
   "outputs": [],
   "source": [
    "barchart_filter_vacc = vacc[['18-44 Years (Doses Administered)', '45-60 Years (Doses Administered)', '60+ Years (Doses Administered)']]\n",
    "sns.set_theme(style='whitegrid')\n",
    "b = sns.barplot(data=barchart_filter_vacc)\n",
    "b.set(xticklabels=['18-44 Years','45-60 Years','60+ Years'])"
   ]
  },
  {
   "cell_type": "markdown",
   "id": "a0d91eeb",
   "metadata": {},
   "source": [
    "### 3.3 Line Plots "
   ]
  },
  {
   "cell_type": "markdown",
   "id": "83c01df1",
   "metadata": {},
   "source": [
    "### 3.5 PCA "
   ]
  },
  {
   "cell_type": "markdown",
   "id": "fad1d86e",
   "metadata": {},
   "source": [
    "***\n",
    "## 6. Conclusion \n",
    "\n",
    "- How many rows and attributes?\n",
    "    - Size of cases in india is: `(18214, 22)`.\n",
    "    - Size of vaccinations in india is: `(9990, 24)`.\n",
    "- How many missing data and outliers?\n",
    "    - `153446` missing elements for cases.\n",
    "    - `73305` missing elements for vaccines.\n",
    "- Any inconsistent, incomplete, duplicate or incorrect data?\n",
    "    - All values in cases and vaccines are unique.\n",
    "    - Cases in india contains `18214` incomplete rows.\n",
    "    - Vaccinations in india contains `9990` incomplete rows.\n",
    "- Are the variables correlated to each other?\n",
    "\n",
    "- Are any of the preprocessing techniques needed: dimensionality reduction, range transformation, standardization, etc.?\n",
    "\n",
    "- Does PCA help visualize the data? Do we get any insights from histograms/bar charts/line plots, etc.?"
   ]
  }
 ],
 "metadata": {
  "kernelspec": {
   "display_name": "Python 3",
   "language": "python",
   "name": "python3"
  },
  "language_info": {
   "codemirror_mode": {
    "name": "ipython",
    "version": 3
   },
   "file_extension": ".py",
   "mimetype": "text/x-python",
   "name": "python",
   "nbconvert_exporter": "python",
   "pygments_lexer": "ipython3",
   "version": "3.6.9"
  }
 },
 "nbformat": 4,
 "nbformat_minor": 5
}
