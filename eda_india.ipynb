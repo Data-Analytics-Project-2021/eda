{
 "cells": [
  {
   "cell_type": "markdown",
   "metadata": {},
   "source": [
    "# EDA India"
   ]
  },
  {
   "cell_type": "markdown",
   "metadata": {},
   "source": [
    "## Overview\n",
    "This notebook contains **Exploratory Data Analysis** and **Visualization** for the cases and vaccinations in India.\n",
    "\n",
    "**Sections:**\n",
    "1. [Data Ingestion](#Data_Ingestion)\n",
    "2. [Summary Statistics](#Summary_Statistics)\n",
    "3. [Data Cleaning](#3.-Data-Cleaning)\n",
    "4. [Visualization](#Visualization)\n",
    "5. Correlation\n",
    "6. Preprocessing\n",
    "7. [Conclusion](#Conclusion)"
   ]
  },
  {
   "cell_type": "markdown",
   "metadata": {},
   "source": [
    "***\n",
    "## Setup "
   ]
  },
  {
   "cell_type": "code",
   "execution_count": null,
   "metadata": {},
   "outputs": [],
   "source": [
    "!pip install seaborn"
   ]
  },
  {
   "cell_type": "code",
   "execution_count": 262,
   "metadata": {},
   "outputs": [],
   "source": [
    "import os\n",
    "from datetime import datetime\n",
    "import pandas as pd\n",
    "import seaborn as sns\n",
    "import matplotlib.pyplot as plt\n",
    "import numpy as np\n",
    "from scipy import stats"
   ]
  },
  {
   "cell_type": "markdown",
   "metadata": {},
   "source": [
    "***\n",
    "<a id='Data_Ingestion'></a>\n",
    "## 1. Data Ingestion"
   ]
  },
  {
   "cell_type": "markdown",
   "metadata": {},
   "source": [
    "### 1.1 Getting daily state-wise cases for India"
   ]
  },
  {
   "cell_type": "code",
   "execution_count": 263,
   "metadata": {},
   "outputs": [
    {
     "data": {
      "text/html": [
       "<div>\n",
       "<style scoped>\n",
       "    .dataframe tbody tr th:only-of-type {\n",
       "        vertical-align: middle;\n",
       "    }\n",
       "\n",
       "    .dataframe tbody tr th {\n",
       "        vertical-align: top;\n",
       "    }\n",
       "\n",
       "    .dataframe thead th {\n",
       "        text-align: right;\n",
       "    }\n",
       "</style>\n",
       "<table border=\"1\" class=\"dataframe\">\n",
       "  <thead>\n",
       "    <tr style=\"text-align: right;\">\n",
       "      <th></th>\n",
       "      <th>Unnamed: 0</th>\n",
       "      <th>Province/State</th>\n",
       "      <th>Country_Region</th>\n",
       "      <th>Last Update</th>\n",
       "      <th>Confirmed</th>\n",
       "      <th>Deaths</th>\n",
       "      <th>Recovered</th>\n",
       "      <th>Date</th>\n",
       "      <th>Latitude</th>\n",
       "      <th>Longitude</th>\n",
       "      <th>...</th>\n",
       "      <th>Province_State</th>\n",
       "      <th>Last_Update</th>\n",
       "      <th>Lat</th>\n",
       "      <th>Long_</th>\n",
       "      <th>Active</th>\n",
       "      <th>Combined_Key</th>\n",
       "      <th>Incidence_Rate</th>\n",
       "      <th>Case-Fatality_Ratio</th>\n",
       "      <th>Incident_Rate</th>\n",
       "      <th>Case_Fatality_Ratio</th>\n",
       "    </tr>\n",
       "  </thead>\n",
       "  <tbody>\n",
       "    <tr>\n",
       "      <th>0</th>\n",
       "      <td>0</td>\n",
       "      <td>NaN</td>\n",
       "      <td>India</td>\n",
       "      <td>1/30/20 16:00</td>\n",
       "      <td>1.0</td>\n",
       "      <td>NaN</td>\n",
       "      <td>NaN</td>\n",
       "      <td>2020-01-30</td>\n",
       "      <td>NaN</td>\n",
       "      <td>NaN</td>\n",
       "      <td>...</td>\n",
       "      <td>NaN</td>\n",
       "      <td>NaN</td>\n",
       "      <td>NaN</td>\n",
       "      <td>NaN</td>\n",
       "      <td>NaN</td>\n",
       "      <td>NaN</td>\n",
       "      <td>NaN</td>\n",
       "      <td>NaN</td>\n",
       "      <td>NaN</td>\n",
       "      <td>NaN</td>\n",
       "    </tr>\n",
       "    <tr>\n",
       "      <th>1</th>\n",
       "      <td>1</td>\n",
       "      <td>NaN</td>\n",
       "      <td>India</td>\n",
       "      <td>1/31/2020 23:59</td>\n",
       "      <td>1.0</td>\n",
       "      <td>NaN</td>\n",
       "      <td>NaN</td>\n",
       "      <td>2020-01-31</td>\n",
       "      <td>NaN</td>\n",
       "      <td>NaN</td>\n",
       "      <td>...</td>\n",
       "      <td>NaN</td>\n",
       "      <td>NaN</td>\n",
       "      <td>NaN</td>\n",
       "      <td>NaN</td>\n",
       "      <td>NaN</td>\n",
       "      <td>NaN</td>\n",
       "      <td>NaN</td>\n",
       "      <td>NaN</td>\n",
       "      <td>NaN</td>\n",
       "      <td>NaN</td>\n",
       "    </tr>\n",
       "    <tr>\n",
       "      <th>2</th>\n",
       "      <td>2</td>\n",
       "      <td>NaN</td>\n",
       "      <td>India</td>\n",
       "      <td>1/31/2020 8:15</td>\n",
       "      <td>1.0</td>\n",
       "      <td>0.0</td>\n",
       "      <td>0.0</td>\n",
       "      <td>2020-02-01</td>\n",
       "      <td>NaN</td>\n",
       "      <td>NaN</td>\n",
       "      <td>...</td>\n",
       "      <td>NaN</td>\n",
       "      <td>NaN</td>\n",
       "      <td>NaN</td>\n",
       "      <td>NaN</td>\n",
       "      <td>NaN</td>\n",
       "      <td>NaN</td>\n",
       "      <td>NaN</td>\n",
       "      <td>NaN</td>\n",
       "      <td>NaN</td>\n",
       "      <td>NaN</td>\n",
       "    </tr>\n",
       "    <tr>\n",
       "      <th>3</th>\n",
       "      <td>3</td>\n",
       "      <td>NaN</td>\n",
       "      <td>India</td>\n",
       "      <td>2020-02-02T06:03:08</td>\n",
       "      <td>2.0</td>\n",
       "      <td>0.0</td>\n",
       "      <td>0.0</td>\n",
       "      <td>2020-02-02</td>\n",
       "      <td>NaN</td>\n",
       "      <td>NaN</td>\n",
       "      <td>...</td>\n",
       "      <td>NaN</td>\n",
       "      <td>NaN</td>\n",
       "      <td>NaN</td>\n",
       "      <td>NaN</td>\n",
       "      <td>NaN</td>\n",
       "      <td>NaN</td>\n",
       "      <td>NaN</td>\n",
       "      <td>NaN</td>\n",
       "      <td>NaN</td>\n",
       "      <td>NaN</td>\n",
       "    </tr>\n",
       "    <tr>\n",
       "      <th>4</th>\n",
       "      <td>4</td>\n",
       "      <td>NaN</td>\n",
       "      <td>India</td>\n",
       "      <td>2020-02-03T21:43:02</td>\n",
       "      <td>3.0</td>\n",
       "      <td>0.0</td>\n",
       "      <td>0.0</td>\n",
       "      <td>2020-02-03</td>\n",
       "      <td>NaN</td>\n",
       "      <td>NaN</td>\n",
       "      <td>...</td>\n",
       "      <td>NaN</td>\n",
       "      <td>NaN</td>\n",
       "      <td>NaN</td>\n",
       "      <td>NaN</td>\n",
       "      <td>NaN</td>\n",
       "      <td>NaN</td>\n",
       "      <td>NaN</td>\n",
       "      <td>NaN</td>\n",
       "      <td>NaN</td>\n",
       "      <td>NaN</td>\n",
       "    </tr>\n",
       "    <tr>\n",
       "      <th>...</th>\n",
       "      <td>...</td>\n",
       "      <td>...</td>\n",
       "      <td>...</td>\n",
       "      <td>...</td>\n",
       "      <td>...</td>\n",
       "      <td>...</td>\n",
       "      <td>...</td>\n",
       "      <td>...</td>\n",
       "      <td>...</td>\n",
       "      <td>...</td>\n",
       "      <td>...</td>\n",
       "      <td>...</td>\n",
       "      <td>...</td>\n",
       "      <td>...</td>\n",
       "      <td>...</td>\n",
       "      <td>...</td>\n",
       "      <td>...</td>\n",
       "      <td>...</td>\n",
       "      <td>...</td>\n",
       "      <td>...</td>\n",
       "      <td>...</td>\n",
       "    </tr>\n",
       "    <tr>\n",
       "      <th>18209</th>\n",
       "      <td>18209</td>\n",
       "      <td>NaN</td>\n",
       "      <td>India</td>\n",
       "      <td>NaN</td>\n",
       "      <td>84285.0</td>\n",
       "      <td>816.0</td>\n",
       "      <td>NaN</td>\n",
       "      <td>2021-10-12</td>\n",
       "      <td>NaN</td>\n",
       "      <td>NaN</td>\n",
       "      <td>...</td>\n",
       "      <td>Tripura</td>\n",
       "      <td>2021-10-13 04:20:51</td>\n",
       "      <td>23.746783</td>\n",
       "      <td>91.743565</td>\n",
       "      <td>NaN</td>\n",
       "      <td>Tripura, India</td>\n",
       "      <td>NaN</td>\n",
       "      <td>NaN</td>\n",
       "      <td>2021.322876</td>\n",
       "      <td>0.9681437978287952</td>\n",
       "    </tr>\n",
       "    <tr>\n",
       "      <th>18210</th>\n",
       "      <td>18210</td>\n",
       "      <td>NaN</td>\n",
       "      <td>India</td>\n",
       "      <td>NaN</td>\n",
       "      <td>0.0</td>\n",
       "      <td>0.0</td>\n",
       "      <td>NaN</td>\n",
       "      <td>2021-10-12</td>\n",
       "      <td>NaN</td>\n",
       "      <td>NaN</td>\n",
       "      <td>...</td>\n",
       "      <td>Unknown</td>\n",
       "      <td>2021-10-13 04:20:51</td>\n",
       "      <td>NaN</td>\n",
       "      <td>NaN</td>\n",
       "      <td>NaN</td>\n",
       "      <td>Unknown, India</td>\n",
       "      <td>NaN</td>\n",
       "      <td>NaN</td>\n",
       "      <td>NaN</td>\n",
       "      <td>NaN</td>\n",
       "    </tr>\n",
       "    <tr>\n",
       "      <th>18211</th>\n",
       "      <td>18211</td>\n",
       "      <td>NaN</td>\n",
       "      <td>India</td>\n",
       "      <td>NaN</td>\n",
       "      <td>1709985.0</td>\n",
       "      <td>22896.0</td>\n",
       "      <td>NaN</td>\n",
       "      <td>2021-10-12</td>\n",
       "      <td>NaN</td>\n",
       "      <td>NaN</td>\n",
       "      <td>...</td>\n",
       "      <td>Uttar Pradesh</td>\n",
       "      <td>2021-10-13 04:20:51</td>\n",
       "      <td>26.925425</td>\n",
       "      <td>80.560982</td>\n",
       "      <td>NaN</td>\n",
       "      <td>Uttar Pradesh, India</td>\n",
       "      <td>NaN</td>\n",
       "      <td>NaN</td>\n",
       "      <td>718.835300</td>\n",
       "      <td>1.3389591136764358</td>\n",
       "    </tr>\n",
       "    <tr>\n",
       "      <th>18212</th>\n",
       "      <td>18212</td>\n",
       "      <td>NaN</td>\n",
       "      <td>India</td>\n",
       "      <td>NaN</td>\n",
       "      <td>343695.0</td>\n",
       "      <td>7397.0</td>\n",
       "      <td>NaN</td>\n",
       "      <td>2021-10-12</td>\n",
       "      <td>NaN</td>\n",
       "      <td>NaN</td>\n",
       "      <td>...</td>\n",
       "      <td>Uttarakhand</td>\n",
       "      <td>2021-10-13 04:20:51</td>\n",
       "      <td>30.156447</td>\n",
       "      <td>79.197608</td>\n",
       "      <td>NaN</td>\n",
       "      <td>Uttarakhand, India</td>\n",
       "      <td>NaN</td>\n",
       "      <td>NaN</td>\n",
       "      <td>3054.833685</td>\n",
       "      <td>2.15219889727811</td>\n",
       "    </tr>\n",
       "    <tr>\n",
       "      <th>18213</th>\n",
       "      <td>18213</td>\n",
       "      <td>NaN</td>\n",
       "      <td>India</td>\n",
       "      <td>NaN</td>\n",
       "      <td>1577711.0</td>\n",
       "      <td>18924.0</td>\n",
       "      <td>NaN</td>\n",
       "      <td>2021-10-12</td>\n",
       "      <td>NaN</td>\n",
       "      <td>NaN</td>\n",
       "      <td>...</td>\n",
       "      <td>West Bengal</td>\n",
       "      <td>2021-10-13 04:20:51</td>\n",
       "      <td>23.814082</td>\n",
       "      <td>87.979803</td>\n",
       "      <td>NaN</td>\n",
       "      <td>West Bengal, India</td>\n",
       "      <td>NaN</td>\n",
       "      <td>NaN</td>\n",
       "      <td>1583.899247</td>\n",
       "      <td>1.1994592165485314</td>\n",
       "    </tr>\n",
       "  </tbody>\n",
       "</table>\n",
       "<p>18214 rows × 22 columns</p>\n",
       "</div>"
      ],
      "text/plain": [
       "       Unnamed: 0  Province/State Country_Region          Last Update  \\\n",
       "0               0             NaN          India        1/30/20 16:00   \n",
       "1               1             NaN          India      1/31/2020 23:59   \n",
       "2               2             NaN          India       1/31/2020 8:15   \n",
       "3               3             NaN          India  2020-02-02T06:03:08   \n",
       "4               4             NaN          India  2020-02-03T21:43:02   \n",
       "...           ...             ...            ...                  ...   \n",
       "18209       18209             NaN          India                  NaN   \n",
       "18210       18210             NaN          India                  NaN   \n",
       "18211       18211             NaN          India                  NaN   \n",
       "18212       18212             NaN          India                  NaN   \n",
       "18213       18213             NaN          India                  NaN   \n",
       "\n",
       "       Confirmed   Deaths  Recovered        Date  Latitude  Longitude  ...  \\\n",
       "0            1.0      NaN        NaN  2020-01-30       NaN        NaN  ...   \n",
       "1            1.0      NaN        NaN  2020-01-31       NaN        NaN  ...   \n",
       "2            1.0      0.0        0.0  2020-02-01       NaN        NaN  ...   \n",
       "3            2.0      0.0        0.0  2020-02-02       NaN        NaN  ...   \n",
       "4            3.0      0.0        0.0  2020-02-03       NaN        NaN  ...   \n",
       "...          ...      ...        ...         ...       ...        ...  ...   \n",
       "18209    84285.0    816.0        NaN  2021-10-12       NaN        NaN  ...   \n",
       "18210        0.0      0.0        NaN  2021-10-12       NaN        NaN  ...   \n",
       "18211  1709985.0  22896.0        NaN  2021-10-12       NaN        NaN  ...   \n",
       "18212   343695.0   7397.0        NaN  2021-10-12       NaN        NaN  ...   \n",
       "18213  1577711.0  18924.0        NaN  2021-10-12       NaN        NaN  ...   \n",
       "\n",
       "       Province_State          Last_Update        Lat      Long_  Active  \\\n",
       "0                 NaN                  NaN        NaN        NaN     NaN   \n",
       "1                 NaN                  NaN        NaN        NaN     NaN   \n",
       "2                 NaN                  NaN        NaN        NaN     NaN   \n",
       "3                 NaN                  NaN        NaN        NaN     NaN   \n",
       "4                 NaN                  NaN        NaN        NaN     NaN   \n",
       "...               ...                  ...        ...        ...     ...   \n",
       "18209         Tripura  2021-10-13 04:20:51  23.746783  91.743565     NaN   \n",
       "18210         Unknown  2021-10-13 04:20:51        NaN        NaN     NaN   \n",
       "18211   Uttar Pradesh  2021-10-13 04:20:51  26.925425  80.560982     NaN   \n",
       "18212     Uttarakhand  2021-10-13 04:20:51  30.156447  79.197608     NaN   \n",
       "18213     West Bengal  2021-10-13 04:20:51  23.814082  87.979803     NaN   \n",
       "\n",
       "               Combined_Key  Incidence_Rate Case-Fatality_Ratio  \\\n",
       "0                       NaN             NaN                 NaN   \n",
       "1                       NaN             NaN                 NaN   \n",
       "2                       NaN             NaN                 NaN   \n",
       "3                       NaN             NaN                 NaN   \n",
       "4                       NaN             NaN                 NaN   \n",
       "...                     ...             ...                 ...   \n",
       "18209        Tripura, India             NaN                 NaN   \n",
       "18210        Unknown, India             NaN                 NaN   \n",
       "18211  Uttar Pradesh, India             NaN                 NaN   \n",
       "18212    Uttarakhand, India             NaN                 NaN   \n",
       "18213    West Bengal, India             NaN                 NaN   \n",
       "\n",
       "       Incident_Rate  Case_Fatality_Ratio  \n",
       "0                NaN                  NaN  \n",
       "1                NaN                  NaN  \n",
       "2                NaN                  NaN  \n",
       "3                NaN                  NaN  \n",
       "4                NaN                  NaN  \n",
       "...              ...                  ...  \n",
       "18209    2021.322876   0.9681437978287952  \n",
       "18210            NaN                  NaN  \n",
       "18211     718.835300   1.3389591136764358  \n",
       "18212    3054.833685     2.15219889727811  \n",
       "18213    1583.899247   1.1994592165485314  \n",
       "\n",
       "[18214 rows x 22 columns]"
      ]
     },
     "execution_count": 263,
     "metadata": {},
     "output_type": "execute_result"
    }
   ],
   "source": [
    "cases = pd.read_csv(\"india_cases_12-10-2021.csv\")\n",
    "cases"
   ]
  },
  {
   "cell_type": "markdown",
   "metadata": {},
   "source": [
    "### 1.2  Getting daily state-wise vaccinations for India"
   ]
  },
  {
   "cell_type": "code",
   "execution_count": 264,
   "metadata": {},
   "outputs": [
    {
     "data": {
      "text/html": [
       "<div>\n",
       "<style scoped>\n",
       "    .dataframe tbody tr th:only-of-type {\n",
       "        vertical-align: middle;\n",
       "    }\n",
       "\n",
       "    .dataframe tbody tr th {\n",
       "        vertical-align: top;\n",
       "    }\n",
       "\n",
       "    .dataframe thead th {\n",
       "        text-align: right;\n",
       "    }\n",
       "</style>\n",
       "<table border=\"1\" class=\"dataframe\">\n",
       "  <thead>\n",
       "    <tr style=\"text-align: right;\">\n",
       "      <th></th>\n",
       "      <th>Unnamed: 0</th>\n",
       "      <th>Updated On</th>\n",
       "      <th>State</th>\n",
       "      <th>Total Doses Administered</th>\n",
       "      <th>Sessions</th>\n",
       "      <th>Sites</th>\n",
       "      <th>First Dose Administered</th>\n",
       "      <th>Second Dose Administered</th>\n",
       "      <th>Male (Doses Administered)</th>\n",
       "      <th>Female (Doses Administered)</th>\n",
       "      <th>...</th>\n",
       "      <th>AEFI</th>\n",
       "      <th>18-44 Years (Doses Administered)</th>\n",
       "      <th>45-60 Years (Doses Administered)</th>\n",
       "      <th>60+ Years (Doses Administered)</th>\n",
       "      <th>18-44 Years (Individuals Vaccinated)</th>\n",
       "      <th>45-60 Years (Individuals Vaccinated)</th>\n",
       "      <th>60+ Years (Individuals Vaccinated)</th>\n",
       "      <th>Male (Individuals Vaccinated)</th>\n",
       "      <th>Female (Individuals Vaccinated)</th>\n",
       "      <th>Transgender (Individuals Vaccinated)</th>\n",
       "    </tr>\n",
       "  </thead>\n",
       "  <tbody>\n",
       "    <tr>\n",
       "      <th>0</th>\n",
       "      <td>0</td>\n",
       "      <td>2021-01-16</td>\n",
       "      <td>Andaman and Nicobar Islands</td>\n",
       "      <td>23.0</td>\n",
       "      <td>2.0</td>\n",
       "      <td>2.0</td>\n",
       "      <td>23.0</td>\n",
       "      <td>0.0</td>\n",
       "      <td>NaN</td>\n",
       "      <td>NaN</td>\n",
       "      <td>...</td>\n",
       "      <td>NaN</td>\n",
       "      <td>NaN</td>\n",
       "      <td>NaN</td>\n",
       "      <td>NaN</td>\n",
       "      <td>NaN</td>\n",
       "      <td>NaN</td>\n",
       "      <td>NaN</td>\n",
       "      <td>12.0</td>\n",
       "      <td>11.0</td>\n",
       "      <td>0.0</td>\n",
       "    </tr>\n",
       "    <tr>\n",
       "      <th>1</th>\n",
       "      <td>1</td>\n",
       "      <td>2021-01-16</td>\n",
       "      <td>Andhra Pradesh</td>\n",
       "      <td>4216.0</td>\n",
       "      <td>541.0</td>\n",
       "      <td>339.0</td>\n",
       "      <td>4216.0</td>\n",
       "      <td>0.0</td>\n",
       "      <td>NaN</td>\n",
       "      <td>NaN</td>\n",
       "      <td>...</td>\n",
       "      <td>NaN</td>\n",
       "      <td>NaN</td>\n",
       "      <td>NaN</td>\n",
       "      <td>NaN</td>\n",
       "      <td>NaN</td>\n",
       "      <td>NaN</td>\n",
       "      <td>NaN</td>\n",
       "      <td>857.0</td>\n",
       "      <td>3359.0</td>\n",
       "      <td>0.0</td>\n",
       "    </tr>\n",
       "    <tr>\n",
       "      <th>2</th>\n",
       "      <td>2</td>\n",
       "      <td>2021-01-16</td>\n",
       "      <td>Arunachal Pradesh</td>\n",
       "      <td>81.0</td>\n",
       "      <td>10.0</td>\n",
       "      <td>9.0</td>\n",
       "      <td>81.0</td>\n",
       "      <td>0.0</td>\n",
       "      <td>NaN</td>\n",
       "      <td>NaN</td>\n",
       "      <td>...</td>\n",
       "      <td>NaN</td>\n",
       "      <td>NaN</td>\n",
       "      <td>NaN</td>\n",
       "      <td>NaN</td>\n",
       "      <td>NaN</td>\n",
       "      <td>NaN</td>\n",
       "      <td>NaN</td>\n",
       "      <td>40.0</td>\n",
       "      <td>41.0</td>\n",
       "      <td>0.0</td>\n",
       "    </tr>\n",
       "    <tr>\n",
       "      <th>3</th>\n",
       "      <td>3</td>\n",
       "      <td>2021-01-16</td>\n",
       "      <td>Assam</td>\n",
       "      <td>401.0</td>\n",
       "      <td>79.0</td>\n",
       "      <td>64.0</td>\n",
       "      <td>401.0</td>\n",
       "      <td>0.0</td>\n",
       "      <td>NaN</td>\n",
       "      <td>NaN</td>\n",
       "      <td>...</td>\n",
       "      <td>NaN</td>\n",
       "      <td>NaN</td>\n",
       "      <td>NaN</td>\n",
       "      <td>NaN</td>\n",
       "      <td>NaN</td>\n",
       "      <td>NaN</td>\n",
       "      <td>NaN</td>\n",
       "      <td>141.0</td>\n",
       "      <td>260.0</td>\n",
       "      <td>0.0</td>\n",
       "    </tr>\n",
       "    <tr>\n",
       "      <th>4</th>\n",
       "      <td>4</td>\n",
       "      <td>2021-01-16</td>\n",
       "      <td>Bihar</td>\n",
       "      <td>2967.0</td>\n",
       "      <td>222.0</td>\n",
       "      <td>219.0</td>\n",
       "      <td>2967.0</td>\n",
       "      <td>0.0</td>\n",
       "      <td>NaN</td>\n",
       "      <td>NaN</td>\n",
       "      <td>...</td>\n",
       "      <td>NaN</td>\n",
       "      <td>NaN</td>\n",
       "      <td>NaN</td>\n",
       "      <td>NaN</td>\n",
       "      <td>NaN</td>\n",
       "      <td>NaN</td>\n",
       "      <td>NaN</td>\n",
       "      <td>926.0</td>\n",
       "      <td>2041.0</td>\n",
       "      <td>0.0</td>\n",
       "    </tr>\n",
       "    <tr>\n",
       "      <th>...</th>\n",
       "      <td>...</td>\n",
       "      <td>...</td>\n",
       "      <td>...</td>\n",
       "      <td>...</td>\n",
       "      <td>...</td>\n",
       "      <td>...</td>\n",
       "      <td>...</td>\n",
       "      <td>...</td>\n",
       "      <td>...</td>\n",
       "      <td>...</td>\n",
       "      <td>...</td>\n",
       "      <td>...</td>\n",
       "      <td>...</td>\n",
       "      <td>...</td>\n",
       "      <td>...</td>\n",
       "      <td>...</td>\n",
       "      <td>...</td>\n",
       "      <td>...</td>\n",
       "      <td>...</td>\n",
       "      <td>...</td>\n",
       "      <td>...</td>\n",
       "    </tr>\n",
       "    <tr>\n",
       "      <th>9985</th>\n",
       "      <td>9985</td>\n",
       "      <td>2021-10-12</td>\n",
       "      <td>Telangana</td>\n",
       "      <td>28306599.0</td>\n",
       "      <td>3618596.0</td>\n",
       "      <td>3120.0</td>\n",
       "      <td>20393627.0</td>\n",
       "      <td>7912972.0</td>\n",
       "      <td>14370006.0</td>\n",
       "      <td>13931284.0</td>\n",
       "      <td>...</td>\n",
       "      <td>426.0</td>\n",
       "      <td>15886178.0</td>\n",
       "      <td>7895479.0</td>\n",
       "      <td>4524942.0</td>\n",
       "      <td>NaN</td>\n",
       "      <td>NaN</td>\n",
       "      <td>NaN</td>\n",
       "      <td>NaN</td>\n",
       "      <td>NaN</td>\n",
       "      <td>NaN</td>\n",
       "    </tr>\n",
       "    <tr>\n",
       "      <th>9986</th>\n",
       "      <td>9986</td>\n",
       "      <td>2021-10-12</td>\n",
       "      <td>Tripura</td>\n",
       "      <td>3994882.0</td>\n",
       "      <td>58166.0</td>\n",
       "      <td>115.0</td>\n",
       "      <td>2501022.0</td>\n",
       "      <td>1493860.0</td>\n",
       "      <td>2030599.0</td>\n",
       "      <td>1963681.0</td>\n",
       "      <td>...</td>\n",
       "      <td>78.0</td>\n",
       "      <td>2035501.0</td>\n",
       "      <td>1299565.0</td>\n",
       "      <td>659816.0</td>\n",
       "      <td>NaN</td>\n",
       "      <td>NaN</td>\n",
       "      <td>NaN</td>\n",
       "      <td>NaN</td>\n",
       "      <td>NaN</td>\n",
       "      <td>NaN</td>\n",
       "    </tr>\n",
       "    <tr>\n",
       "      <th>9987</th>\n",
       "      <td>9987</td>\n",
       "      <td>2021-10-12</td>\n",
       "      <td>Uttar Pradesh</td>\n",
       "      <td>117159115.0</td>\n",
       "      <td>7765139.0</td>\n",
       "      <td>8111.0</td>\n",
       "      <td>91974814.0</td>\n",
       "      <td>25184301.0</td>\n",
       "      <td>62330170.0</td>\n",
       "      <td>54778681.0</td>\n",
       "      <td>...</td>\n",
       "      <td>1851.0</td>\n",
       "      <td>68888424.0</td>\n",
       "      <td>30586541.0</td>\n",
       "      <td>17684150.0</td>\n",
       "      <td>NaN</td>\n",
       "      <td>NaN</td>\n",
       "      <td>NaN</td>\n",
       "      <td>NaN</td>\n",
       "      <td>NaN</td>\n",
       "      <td>NaN</td>\n",
       "    </tr>\n",
       "    <tr>\n",
       "      <th>9988</th>\n",
       "      <td>9988</td>\n",
       "      <td>2021-10-12</td>\n",
       "      <td>Uttarakhand</td>\n",
       "      <td>10803381.0</td>\n",
       "      <td>286497.0</td>\n",
       "      <td>725.0</td>\n",
       "      <td>7421381.0</td>\n",
       "      <td>3382000.0</td>\n",
       "      <td>5560359.0</td>\n",
       "      <td>5238909.0</td>\n",
       "      <td>...</td>\n",
       "      <td>494.0</td>\n",
       "      <td>6278209.0</td>\n",
       "      <td>2628031.0</td>\n",
       "      <td>1897141.0</td>\n",
       "      <td>NaN</td>\n",
       "      <td>NaN</td>\n",
       "      <td>NaN</td>\n",
       "      <td>NaN</td>\n",
       "      <td>NaN</td>\n",
       "      <td>NaN</td>\n",
       "    </tr>\n",
       "    <tr>\n",
       "      <th>9989</th>\n",
       "      <td>9989</td>\n",
       "      <td>2021-10-12</td>\n",
       "      <td>West Bengal</td>\n",
       "      <td>65502321.0</td>\n",
       "      <td>1433952.0</td>\n",
       "      <td>2348.0</td>\n",
       "      <td>47381267.0</td>\n",
       "      <td>18121054.0</td>\n",
       "      <td>33542318.0</td>\n",
       "      <td>31948513.0</td>\n",
       "      <td>...</td>\n",
       "      <td>3301.0</td>\n",
       "      <td>33511218.0</td>\n",
       "      <td>19736753.0</td>\n",
       "      <td>12254350.0</td>\n",
       "      <td>NaN</td>\n",
       "      <td>NaN</td>\n",
       "      <td>NaN</td>\n",
       "      <td>NaN</td>\n",
       "      <td>NaN</td>\n",
       "      <td>NaN</td>\n",
       "    </tr>\n",
       "  </tbody>\n",
       "</table>\n",
       "<p>9990 rows × 24 columns</p>\n",
       "</div>"
      ],
      "text/plain": [
       "      Unnamed: 0  Updated On                        State  \\\n",
       "0              0  2021-01-16  Andaman and Nicobar Islands   \n",
       "1              1  2021-01-16               Andhra Pradesh   \n",
       "2              2  2021-01-16            Arunachal Pradesh   \n",
       "3              3  2021-01-16                        Assam   \n",
       "4              4  2021-01-16                        Bihar   \n",
       "...          ...         ...                          ...   \n",
       "9985        9985  2021-10-12                    Telangana   \n",
       "9986        9986  2021-10-12                      Tripura   \n",
       "9987        9987  2021-10-12                Uttar Pradesh   \n",
       "9988        9988  2021-10-12                  Uttarakhand   \n",
       "9989        9989  2021-10-12                  West Bengal   \n",
       "\n",
       "      Total Doses Administered   Sessions   Sites  First Dose Administered  \\\n",
       "0                         23.0        2.0     2.0                     23.0   \n",
       "1                       4216.0      541.0   339.0                   4216.0   \n",
       "2                         81.0       10.0     9.0                     81.0   \n",
       "3                        401.0       79.0    64.0                    401.0   \n",
       "4                       2967.0      222.0   219.0                   2967.0   \n",
       "...                        ...        ...     ...                      ...   \n",
       "9985                28306599.0  3618596.0  3120.0               20393627.0   \n",
       "9986                 3994882.0    58166.0   115.0                2501022.0   \n",
       "9987               117159115.0  7765139.0  8111.0               91974814.0   \n",
       "9988                10803381.0   286497.0   725.0                7421381.0   \n",
       "9989                65502321.0  1433952.0  2348.0               47381267.0   \n",
       "\n",
       "      Second Dose Administered  Male (Doses Administered)  \\\n",
       "0                          0.0                        NaN   \n",
       "1                          0.0                        NaN   \n",
       "2                          0.0                        NaN   \n",
       "3                          0.0                        NaN   \n",
       "4                          0.0                        NaN   \n",
       "...                        ...                        ...   \n",
       "9985                 7912972.0                 14370006.0   \n",
       "9986                 1493860.0                  2030599.0   \n",
       "9987                25184301.0                 62330170.0   \n",
       "9988                 3382000.0                  5560359.0   \n",
       "9989                18121054.0                 33542318.0   \n",
       "\n",
       "      Female (Doses Administered)  ...    AEFI  \\\n",
       "0                             NaN  ...     NaN   \n",
       "1                             NaN  ...     NaN   \n",
       "2                             NaN  ...     NaN   \n",
       "3                             NaN  ...     NaN   \n",
       "4                             NaN  ...     NaN   \n",
       "...                           ...  ...     ...   \n",
       "9985                   13931284.0  ...   426.0   \n",
       "9986                    1963681.0  ...    78.0   \n",
       "9987                   54778681.0  ...  1851.0   \n",
       "9988                    5238909.0  ...   494.0   \n",
       "9989                   31948513.0  ...  3301.0   \n",
       "\n",
       "      18-44 Years (Doses Administered)  45-60 Years (Doses Administered)  \\\n",
       "0                                  NaN                               NaN   \n",
       "1                                  NaN                               NaN   \n",
       "2                                  NaN                               NaN   \n",
       "3                                  NaN                               NaN   \n",
       "4                                  NaN                               NaN   \n",
       "...                                ...                               ...   \n",
       "9985                        15886178.0                         7895479.0   \n",
       "9986                         2035501.0                         1299565.0   \n",
       "9987                        68888424.0                        30586541.0   \n",
       "9988                         6278209.0                         2628031.0   \n",
       "9989                        33511218.0                        19736753.0   \n",
       "\n",
       "      60+ Years (Doses Administered)  18-44 Years (Individuals Vaccinated)  \\\n",
       "0                                NaN                                   NaN   \n",
       "1                                NaN                                   NaN   \n",
       "2                                NaN                                   NaN   \n",
       "3                                NaN                                   NaN   \n",
       "4                                NaN                                   NaN   \n",
       "...                              ...                                   ...   \n",
       "9985                       4524942.0                                   NaN   \n",
       "9986                        659816.0                                   NaN   \n",
       "9987                      17684150.0                                   NaN   \n",
       "9988                       1897141.0                                   NaN   \n",
       "9989                      12254350.0                                   NaN   \n",
       "\n",
       "      45-60 Years (Individuals Vaccinated)  \\\n",
       "0                                      NaN   \n",
       "1                                      NaN   \n",
       "2                                      NaN   \n",
       "3                                      NaN   \n",
       "4                                      NaN   \n",
       "...                                    ...   \n",
       "9985                                   NaN   \n",
       "9986                                   NaN   \n",
       "9987                                   NaN   \n",
       "9988                                   NaN   \n",
       "9989                                   NaN   \n",
       "\n",
       "      60+ Years (Individuals Vaccinated)  Male (Individuals Vaccinated)  \\\n",
       "0                                    NaN                           12.0   \n",
       "1                                    NaN                          857.0   \n",
       "2                                    NaN                           40.0   \n",
       "3                                    NaN                          141.0   \n",
       "4                                    NaN                          926.0   \n",
       "...                                  ...                            ...   \n",
       "9985                                 NaN                            NaN   \n",
       "9986                                 NaN                            NaN   \n",
       "9987                                 NaN                            NaN   \n",
       "9988                                 NaN                            NaN   \n",
       "9989                                 NaN                            NaN   \n",
       "\n",
       "      Female (Individuals Vaccinated)  Transgender (Individuals Vaccinated)  \n",
       "0                                11.0                                   0.0  \n",
       "1                              3359.0                                   0.0  \n",
       "2                                41.0                                   0.0  \n",
       "3                               260.0                                   0.0  \n",
       "4                              2041.0                                   0.0  \n",
       "...                               ...                                   ...  \n",
       "9985                              NaN                                   NaN  \n",
       "9986                              NaN                                   NaN  \n",
       "9987                              NaN                                   NaN  \n",
       "9988                              NaN                                   NaN  \n",
       "9989                              NaN                                   NaN  \n",
       "\n",
       "[9990 rows x 24 columns]"
      ]
     },
     "execution_count": 264,
     "metadata": {},
     "output_type": "execute_result"
    }
   ],
   "source": [
    "vacc = pd.read_csv(\"india_vaccines_12-10-2021.csv\")\n",
    "vacc"
   ]
  },
  {
   "cell_type": "markdown",
   "metadata": {},
   "source": [
    "***\n",
    "<a id='Summary_Statistics'></a>\n",
    "## 2. Summary statistics"
   ]
  },
  {
   "cell_type": "code",
   "execution_count": 265,
   "metadata": {
    "scrolled": false
   },
   "outputs": [
    {
     "data": {
      "text/html": [
       "<div>\n",
       "<style scoped>\n",
       "    .dataframe tbody tr th:only-of-type {\n",
       "        vertical-align: middle;\n",
       "    }\n",
       "\n",
       "    .dataframe tbody tr th {\n",
       "        vertical-align: top;\n",
       "    }\n",
       "\n",
       "    .dataframe thead th {\n",
       "        text-align: right;\n",
       "    }\n",
       "</style>\n",
       "<table border=\"1\" class=\"dataframe\">\n",
       "  <thead>\n",
       "    <tr style=\"text-align: right;\">\n",
       "      <th></th>\n",
       "      <th>Unnamed: 0</th>\n",
       "      <th>Province/State</th>\n",
       "      <th>Confirmed</th>\n",
       "      <th>Deaths</th>\n",
       "      <th>Recovered</th>\n",
       "      <th>Latitude</th>\n",
       "      <th>Longitude</th>\n",
       "      <th>FIPS</th>\n",
       "      <th>Admin2</th>\n",
       "      <th>Lat</th>\n",
       "      <th>Long_</th>\n",
       "      <th>Active</th>\n",
       "      <th>Incidence_Rate</th>\n",
       "      <th>Case-Fatality_Ratio</th>\n",
       "      <th>Incident_Rate</th>\n",
       "    </tr>\n",
       "  </thead>\n",
       "  <tbody>\n",
       "    <tr>\n",
       "      <th>count</th>\n",
       "      <td>18214.000000</td>\n",
       "      <td>0.0</td>\n",
       "      <td>1.821400e+04</td>\n",
       "      <td>18212.000000</td>\n",
       "      <td>1.565900e+04</td>\n",
       "      <td>21.000000</td>\n",
       "      <td>21.000000</td>\n",
       "      <td>0.0</td>\n",
       "      <td>0.0</td>\n",
       "      <td>17672.000000</td>\n",
       "      <td>17672.000000</td>\n",
       "      <td>15609.000000</td>\n",
       "      <td>5436.000000</td>\n",
       "      <td>5380.000000</td>\n",
       "      <td>12168.000000</td>\n",
       "    </tr>\n",
       "    <tr>\n",
       "      <th>mean</th>\n",
       "      <td>9106.500000</td>\n",
       "      <td>NaN</td>\n",
       "      <td>4.139694e+05</td>\n",
       "      <td>5558.077147</td>\n",
       "      <td>3.103162e+05</td>\n",
       "      <td>20.825871</td>\n",
       "      <td>78.412671</td>\n",
       "      <td>NaN</td>\n",
       "      <td>NaN</td>\n",
       "      <td>23.102482</td>\n",
       "      <td>81.819393</td>\n",
       "      <td>21127.198475</td>\n",
       "      <td>359.635609</td>\n",
       "      <td>1.224933</td>\n",
       "      <td>2277.621568</td>\n",
       "    </tr>\n",
       "    <tr>\n",
       "      <th>std</th>\n",
       "      <td>5258.073237</td>\n",
       "      <td>NaN</td>\n",
       "      <td>8.215542e+05</td>\n",
       "      <td>13800.357492</td>\n",
       "      <td>6.322397e+05</td>\n",
       "      <td>0.206032</td>\n",
       "      <td>0.488279</td>\n",
       "      <td>NaN</td>\n",
       "      <td>NaN</td>\n",
       "      <td>6.549905</td>\n",
       "      <td>7.281782</td>\n",
       "      <td>56561.126646</td>\n",
       "      <td>473.089376</td>\n",
       "      <td>1.026203</td>\n",
       "      <td>2593.943658</td>\n",
       "    </tr>\n",
       "    <tr>\n",
       "      <th>min</th>\n",
       "      <td>0.000000</td>\n",
       "      <td>NaN</td>\n",
       "      <td>0.000000e+00</td>\n",
       "      <td>0.000000</td>\n",
       "      <td>0.000000e+00</td>\n",
       "      <td>20.593700</td>\n",
       "      <td>78.000000</td>\n",
       "      <td>NaN</td>\n",
       "      <td>NaN</td>\n",
       "      <td>10.450898</td>\n",
       "      <td>71.590923</td>\n",
       "      <td>-250068.000000</td>\n",
       "      <td>0.000000</td>\n",
       "      <td>0.000000</td>\n",
       "      <td>0.000000</td>\n",
       "    </tr>\n",
       "    <tr>\n",
       "      <th>25%</th>\n",
       "      <td>4553.250000</td>\n",
       "      <td>NaN</td>\n",
       "      <td>1.206725e+04</td>\n",
       "      <td>126.000000</td>\n",
       "      <td>8.071500e+03</td>\n",
       "      <td>20.593700</td>\n",
       "      <td>78.000000</td>\n",
       "      <td>NaN</td>\n",
       "      <td>NaN</td>\n",
       "      <td>19.449759</td>\n",
       "      <td>76.405749</td>\n",
       "      <td>594.000000</td>\n",
       "      <td>47.313427</td>\n",
       "      <td>0.436467</td>\n",
       "      <td>737.143013</td>\n",
       "    </tr>\n",
       "    <tr>\n",
       "      <th>50%</th>\n",
       "      <td>9106.500000</td>\n",
       "      <td>NaN</td>\n",
       "      <td>9.703100e+04</td>\n",
       "      <td>1090.000000</td>\n",
       "      <td>5.850200e+04</td>\n",
       "      <td>21.000000</td>\n",
       "      <td>78.000000</td>\n",
       "      <td>NaN</td>\n",
       "      <td>NaN</td>\n",
       "      <td>23.746783</td>\n",
       "      <td>78.962880</td>\n",
       "      <td>3317.000000</td>\n",
       "      <td>179.756191</td>\n",
       "      <td>1.090552</td>\n",
       "      <td>1355.878688</td>\n",
       "    </tr>\n",
       "    <tr>\n",
       "      <th>75%</th>\n",
       "      <td>13659.750000</td>\n",
       "      <td>NaN</td>\n",
       "      <td>4.894270e+05</td>\n",
       "      <td>5400.250000</td>\n",
       "      <td>3.159220e+05</td>\n",
       "      <td>21.000000</td>\n",
       "      <td>78.962900</td>\n",
       "      <td>NaN</td>\n",
       "      <td>NaN</td>\n",
       "      <td>27.571671</td>\n",
       "      <td>87.979803</td>\n",
       "      <td>16076.000000</td>\n",
       "      <td>491.860789</td>\n",
       "      <td>1.663822</td>\n",
       "      <td>2894.399724</td>\n",
       "    </tr>\n",
       "    <tr>\n",
       "      <th>max</th>\n",
       "      <td>18213.000000</td>\n",
       "      <td>NaN</td>\n",
       "      <td>6.581677e+06</td>\n",
       "      <td>139621.000000</td>\n",
       "      <td>6.117560e+06</td>\n",
       "      <td>21.000000</td>\n",
       "      <td>78.962900</td>\n",
       "      <td>NaN</td>\n",
       "      <td>NaN</td>\n",
       "      <td>34.152600</td>\n",
       "      <td>96.384277</td>\n",
       "      <td>701614.000000</td>\n",
       "      <td>2840.977147</td>\n",
       "      <td>6.286311</td>\n",
       "      <td>16087.476137</td>\n",
       "    </tr>\n",
       "  </tbody>\n",
       "</table>\n",
       "</div>"
      ],
      "text/plain": [
       "         Unnamed: 0  Province/State     Confirmed         Deaths  \\\n",
       "count  18214.000000             0.0  1.821400e+04   18212.000000   \n",
       "mean    9106.500000             NaN  4.139694e+05    5558.077147   \n",
       "std     5258.073237             NaN  8.215542e+05   13800.357492   \n",
       "min        0.000000             NaN  0.000000e+00       0.000000   \n",
       "25%     4553.250000             NaN  1.206725e+04     126.000000   \n",
       "50%     9106.500000             NaN  9.703100e+04    1090.000000   \n",
       "75%    13659.750000             NaN  4.894270e+05    5400.250000   \n",
       "max    18213.000000             NaN  6.581677e+06  139621.000000   \n",
       "\n",
       "          Recovered   Latitude  Longitude  FIPS  Admin2           Lat  \\\n",
       "count  1.565900e+04  21.000000  21.000000   0.0     0.0  17672.000000   \n",
       "mean   3.103162e+05  20.825871  78.412671   NaN     NaN     23.102482   \n",
       "std    6.322397e+05   0.206032   0.488279   NaN     NaN      6.549905   \n",
       "min    0.000000e+00  20.593700  78.000000   NaN     NaN     10.450898   \n",
       "25%    8.071500e+03  20.593700  78.000000   NaN     NaN     19.449759   \n",
       "50%    5.850200e+04  21.000000  78.000000   NaN     NaN     23.746783   \n",
       "75%    3.159220e+05  21.000000  78.962900   NaN     NaN     27.571671   \n",
       "max    6.117560e+06  21.000000  78.962900   NaN     NaN     34.152600   \n",
       "\n",
       "              Long_         Active  Incidence_Rate  Case-Fatality_Ratio  \\\n",
       "count  17672.000000   15609.000000     5436.000000          5380.000000   \n",
       "mean      81.819393   21127.198475      359.635609             1.224933   \n",
       "std        7.281782   56561.126646      473.089376             1.026203   \n",
       "min       71.590923 -250068.000000        0.000000             0.000000   \n",
       "25%       76.405749     594.000000       47.313427             0.436467   \n",
       "50%       78.962880    3317.000000      179.756191             1.090552   \n",
       "75%       87.979803   16076.000000      491.860789             1.663822   \n",
       "max       96.384277  701614.000000     2840.977147             6.286311   \n",
       "\n",
       "       Incident_Rate  \n",
       "count   12168.000000  \n",
       "mean     2277.621568  \n",
       "std      2593.943658  \n",
       "min         0.000000  \n",
       "25%       737.143013  \n",
       "50%      1355.878688  \n",
       "75%      2894.399724  \n",
       "max     16087.476137  "
      ]
     },
     "execution_count": 265,
     "metadata": {},
     "output_type": "execute_result"
    }
   ],
   "source": [
    "# Summary statistics for cases in India\n",
    "cases.describe()"
   ]
  },
  {
   "cell_type": "code",
   "execution_count": 266,
   "metadata": {},
   "outputs": [
    {
     "data": {
      "text/html": [
       "<div>\n",
       "<style scoped>\n",
       "    .dataframe tbody tr th:only-of-type {\n",
       "        vertical-align: middle;\n",
       "    }\n",
       "\n",
       "    .dataframe tbody tr th {\n",
       "        vertical-align: top;\n",
       "    }\n",
       "\n",
       "    .dataframe thead th {\n",
       "        text-align: right;\n",
       "    }\n",
       "</style>\n",
       "<table border=\"1\" class=\"dataframe\">\n",
       "  <thead>\n",
       "    <tr style=\"text-align: right;\">\n",
       "      <th></th>\n",
       "      <th>Unnamed: 0</th>\n",
       "      <th>Total Doses Administered</th>\n",
       "      <th>Sessions</th>\n",
       "      <th>Sites</th>\n",
       "      <th>First Dose Administered</th>\n",
       "      <th>Second Dose Administered</th>\n",
       "      <th>Male (Doses Administered)</th>\n",
       "      <th>Female (Doses Administered)</th>\n",
       "      <th>Transgender (Doses Administered)</th>\n",
       "      <th>Covaxin (Doses Administered)</th>\n",
       "      <th>...</th>\n",
       "      <th>AEFI</th>\n",
       "      <th>18-44 Years (Doses Administered)</th>\n",
       "      <th>45-60 Years (Doses Administered)</th>\n",
       "      <th>60+ Years (Doses Administered)</th>\n",
       "      <th>18-44 Years (Individuals Vaccinated)</th>\n",
       "      <th>45-60 Years (Individuals Vaccinated)</th>\n",
       "      <th>60+ Years (Individuals Vaccinated)</th>\n",
       "      <th>Male (Individuals Vaccinated)</th>\n",
       "      <th>Female (Individuals Vaccinated)</th>\n",
       "      <th>Transgender (Individuals Vaccinated)</th>\n",
       "    </tr>\n",
       "  </thead>\n",
       "  <tbody>\n",
       "    <tr>\n",
       "      <th>count</th>\n",
       "      <td>9990.000000</td>\n",
       "      <td>9.990000e+03</td>\n",
       "      <td>9.990000e+03</td>\n",
       "      <td>9.990000e+03</td>\n",
       "      <td>9.990000e+03</td>\n",
       "      <td>9.990000e+03</td>\n",
       "      <td>4.070000e+03</td>\n",
       "      <td>4.070000e+03</td>\n",
       "      <td>4070.000000</td>\n",
       "      <td>9.990000e+03</td>\n",
       "      <td>...</td>\n",
       "      <td>7.807000e+03</td>\n",
       "      <td>4.070000e+03</td>\n",
       "      <td>4.070000e+03</td>\n",
       "      <td>4.070000e+03</td>\n",
       "      <td>3.734000e+03</td>\n",
       "      <td>3.735000e+03</td>\n",
       "      <td>3.735000e+03</td>\n",
       "      <td>5.920000e+03</td>\n",
       "      <td>5.920000e+03</td>\n",
       "      <td>5920.000000</td>\n",
       "    </tr>\n",
       "    <tr>\n",
       "      <th>mean</th>\n",
       "      <td>4994.500000</td>\n",
       "      <td>1.643640e+07</td>\n",
       "      <td>8.638663e+05</td>\n",
       "      <td>2.918482e+03</td>\n",
       "      <td>1.273914e+07</td>\n",
       "      <td>3.697662e+06</td>\n",
       "      <td>1.697812e+07</td>\n",
       "      <td>1.524136e+07</td>\n",
       "      <td>6594.318673</td>\n",
       "      <td>1.909259e+06</td>\n",
       "      <td>...</td>\n",
       "      <td>1.522174e+03</td>\n",
       "      <td>1.548285e+07</td>\n",
       "      <td>9.895476e+06</td>\n",
       "      <td>6.848286e+06</td>\n",
       "      <td>1.395574e+06</td>\n",
       "      <td>2.915750e+06</td>\n",
       "      <td>2.626746e+06</td>\n",
       "      <td>2.411224e+06</td>\n",
       "      <td>2.135228e+06</td>\n",
       "      <td>668.468919</td>\n",
       "    </tr>\n",
       "    <tr>\n",
       "      <th>std</th>\n",
       "      <td>2884.008929</td>\n",
       "      <td>6.847879e+07</td>\n",
       "      <td>3.818360e+06</td>\n",
       "      <td>4.405568e+04</td>\n",
       "      <td>5.204448e+07</td>\n",
       "      <td>1.663048e+07</td>\n",
       "      <td>5.322001e+07</td>\n",
       "      <td>4.809581e+07</td>\n",
       "      <td>21617.512556</td>\n",
       "      <td>8.058335e+06</td>\n",
       "      <td>...</td>\n",
       "      <td>2.618977e+04</td>\n",
       "      <td>5.094356e+07</td>\n",
       "      <td>3.037111e+07</td>\n",
       "      <td>2.069650e+07</td>\n",
       "      <td>5.500752e+06</td>\n",
       "      <td>9.566440e+06</td>\n",
       "      <td>8.191239e+06</td>\n",
       "      <td>9.778427e+06</td>\n",
       "      <td>8.562723e+06</td>\n",
       "      <td>2897.771611</td>\n",
       "    </tr>\n",
       "    <tr>\n",
       "      <th>min</th>\n",
       "      <td>0.000000</td>\n",
       "      <td>7.000000e+00</td>\n",
       "      <td>0.000000e+00</td>\n",
       "      <td>0.000000e+00</td>\n",
       "      <td>7.000000e+00</td>\n",
       "      <td>0.000000e+00</td>\n",
       "      <td>2.940000e+04</td>\n",
       "      <td>1.180000e+03</td>\n",
       "      <td>3.000000</td>\n",
       "      <td>0.000000e+00</td>\n",
       "      <td>...</td>\n",
       "      <td>0.000000e+00</td>\n",
       "      <td>2.662400e+04</td>\n",
       "      <td>1.681500e+04</td>\n",
       "      <td>9.994000e+03</td>\n",
       "      <td>1.059000e+03</td>\n",
       "      <td>1.136000e+03</td>\n",
       "      <td>5.580000e+02</td>\n",
       "      <td>0.000000e+00</td>\n",
       "      <td>2.000000e+00</td>\n",
       "      <td>0.000000</td>\n",
       "    </tr>\n",
       "    <tr>\n",
       "      <th>25%</th>\n",
       "      <td>2497.250000</td>\n",
       "      <td>2.469140e+05</td>\n",
       "      <td>8.175500e+03</td>\n",
       "      <td>6.800000e+01</td>\n",
       "      <td>1.952065e+05</td>\n",
       "      <td>3.701675e+04</td>\n",
       "      <td>5.620130e+05</td>\n",
       "      <td>4.658858e+05</td>\n",
       "      <td>189.000000</td>\n",
       "      <td>0.000000e+00</td>\n",
       "      <td>...</td>\n",
       "      <td>1.090000e+02</td>\n",
       "      <td>6.046735e+05</td>\n",
       "      <td>2.794588e+05</td>\n",
       "      <td>1.580100e+05</td>\n",
       "      <td>5.660150e+04</td>\n",
       "      <td>9.247600e+04</td>\n",
       "      <td>5.615200e+04</td>\n",
       "      <td>3.849650e+04</td>\n",
       "      <td>3.263750e+04</td>\n",
       "      <td>3.750000</td>\n",
       "    </tr>\n",
       "    <tr>\n",
       "      <th>50%</th>\n",
       "      <td>4994.500000</td>\n",
       "      <td>1.507410e+06</td>\n",
       "      <td>8.277050e+04</td>\n",
       "      <td>6.860000e+02</td>\n",
       "      <td>1.167937e+06</td>\n",
       "      <td>3.269805e+05</td>\n",
       "      <td>5.485104e+06</td>\n",
       "      <td>4.678409e+06</td>\n",
       "      <td>1878.000000</td>\n",
       "      <td>3.425950e+04</td>\n",
       "      <td>...</td>\n",
       "      <td>2.990000e+02</td>\n",
       "      <td>4.392032e+06</td>\n",
       "      <td>3.254274e+06</td>\n",
       "      <td>2.124637e+06</td>\n",
       "      <td>2.945885e+05</td>\n",
       "      <td>8.321420e+05</td>\n",
       "      <td>7.887420e+05</td>\n",
       "      <td>2.049135e+05</td>\n",
       "      <td>1.983260e+05</td>\n",
       "      <td>52.000000</td>\n",
       "    </tr>\n",
       "    <tr>\n",
       "      <th>75%</th>\n",
       "      <td>7491.750000</td>\n",
       "      <td>1.123974e+07</td>\n",
       "      <td>5.107835e+05</td>\n",
       "      <td>1.914750e+03</td>\n",
       "      <td>8.945087e+06</td>\n",
       "      <td>2.290837e+06</td>\n",
       "      <td>1.411891e+07</td>\n",
       "      <td>1.318208e+07</td>\n",
       "      <td>4837.500000</td>\n",
       "      <td>1.428831e+06</td>\n",
       "      <td>...</td>\n",
       "      <td>8.660000e+02</td>\n",
       "      <td>1.211466e+07</td>\n",
       "      <td>8.916640e+06</td>\n",
       "      <td>6.802536e+06</td>\n",
       "      <td>9.095950e+05</td>\n",
       "      <td>2.499081e+06</td>\n",
       "      <td>2.335726e+06</td>\n",
       "      <td>1.882112e+06</td>\n",
       "      <td>1.628501e+06</td>\n",
       "      <td>476.250000</td>\n",
       "    </tr>\n",
       "    <tr>\n",
       "      <th>max</th>\n",
       "      <td>9989.000000</td>\n",
       "      <td>9.638253e+08</td>\n",
       "      <td>1.032264e+08</td>\n",
       "      <td>4.333205e+06</td>\n",
       "      <td>6.900501e+08</td>\n",
       "      <td>2.737752e+08</td>\n",
       "      <td>4.984804e+08</td>\n",
       "      <td>4.616817e+08</td>\n",
       "      <td>215280.000000</td>\n",
       "      <td>1.108719e+08</td>\n",
       "      <td>...</td>\n",
       "      <td>2.290387e+06</td>\n",
       "      <td>5.313389e+08</td>\n",
       "      <td>2.625130e+08</td>\n",
       "      <td>1.665255e+08</td>\n",
       "      <td>9.224315e+07</td>\n",
       "      <td>9.096888e+07</td>\n",
       "      <td>6.731098e+07</td>\n",
       "      <td>1.349420e+08</td>\n",
       "      <td>1.156684e+08</td>\n",
       "      <td>46462.000000</td>\n",
       "    </tr>\n",
       "  </tbody>\n",
       "</table>\n",
       "<p>8 rows × 22 columns</p>\n",
       "</div>"
      ],
      "text/plain": [
       "        Unnamed: 0  Total Doses Administered      Sessions         Sites  \\\n",
       "count  9990.000000              9.990000e+03  9.990000e+03  9.990000e+03   \n",
       "mean   4994.500000              1.643640e+07  8.638663e+05  2.918482e+03   \n",
       "std    2884.008929              6.847879e+07  3.818360e+06  4.405568e+04   \n",
       "min       0.000000              7.000000e+00  0.000000e+00  0.000000e+00   \n",
       "25%    2497.250000              2.469140e+05  8.175500e+03  6.800000e+01   \n",
       "50%    4994.500000              1.507410e+06  8.277050e+04  6.860000e+02   \n",
       "75%    7491.750000              1.123974e+07  5.107835e+05  1.914750e+03   \n",
       "max    9989.000000              9.638253e+08  1.032264e+08  4.333205e+06   \n",
       "\n",
       "       First Dose Administered  Second Dose Administered  \\\n",
       "count             9.990000e+03              9.990000e+03   \n",
       "mean              1.273914e+07              3.697662e+06   \n",
       "std               5.204448e+07              1.663048e+07   \n",
       "min               7.000000e+00              0.000000e+00   \n",
       "25%               1.952065e+05              3.701675e+04   \n",
       "50%               1.167937e+06              3.269805e+05   \n",
       "75%               8.945087e+06              2.290837e+06   \n",
       "max               6.900501e+08              2.737752e+08   \n",
       "\n",
       "       Male (Doses Administered)  Female (Doses Administered)  \\\n",
       "count               4.070000e+03                 4.070000e+03   \n",
       "mean                1.697812e+07                 1.524136e+07   \n",
       "std                 5.322001e+07                 4.809581e+07   \n",
       "min                 2.940000e+04                 1.180000e+03   \n",
       "25%                 5.620130e+05                 4.658858e+05   \n",
       "50%                 5.485104e+06                 4.678409e+06   \n",
       "75%                 1.411891e+07                 1.318208e+07   \n",
       "max                 4.984804e+08                 4.616817e+08   \n",
       "\n",
       "       Transgender (Doses Administered)  Covaxin (Doses Administered)  ...  \\\n",
       "count                       4070.000000                  9.990000e+03  ...   \n",
       "mean                        6594.318673                  1.909259e+06  ...   \n",
       "std                        21617.512556                  8.058335e+06  ...   \n",
       "min                            3.000000                  0.000000e+00  ...   \n",
       "25%                          189.000000                  0.000000e+00  ...   \n",
       "50%                         1878.000000                  3.425950e+04  ...   \n",
       "75%                         4837.500000                  1.428831e+06  ...   \n",
       "max                       215280.000000                  1.108719e+08  ...   \n",
       "\n",
       "               AEFI  18-44 Years (Doses Administered)  \\\n",
       "count  7.807000e+03                      4.070000e+03   \n",
       "mean   1.522174e+03                      1.548285e+07   \n",
       "std    2.618977e+04                      5.094356e+07   \n",
       "min    0.000000e+00                      2.662400e+04   \n",
       "25%    1.090000e+02                      6.046735e+05   \n",
       "50%    2.990000e+02                      4.392032e+06   \n",
       "75%    8.660000e+02                      1.211466e+07   \n",
       "max    2.290387e+06                      5.313389e+08   \n",
       "\n",
       "       45-60 Years (Doses Administered)  60+ Years (Doses Administered)  \\\n",
       "count                      4.070000e+03                    4.070000e+03   \n",
       "mean                       9.895476e+06                    6.848286e+06   \n",
       "std                        3.037111e+07                    2.069650e+07   \n",
       "min                        1.681500e+04                    9.994000e+03   \n",
       "25%                        2.794588e+05                    1.580100e+05   \n",
       "50%                        3.254274e+06                    2.124637e+06   \n",
       "75%                        8.916640e+06                    6.802536e+06   \n",
       "max                        2.625130e+08                    1.665255e+08   \n",
       "\n",
       "       18-44 Years (Individuals Vaccinated)  \\\n",
       "count                          3.734000e+03   \n",
       "mean                           1.395574e+06   \n",
       "std                            5.500752e+06   \n",
       "min                            1.059000e+03   \n",
       "25%                            5.660150e+04   \n",
       "50%                            2.945885e+05   \n",
       "75%                            9.095950e+05   \n",
       "max                            9.224315e+07   \n",
       "\n",
       "       45-60 Years (Individuals Vaccinated)  \\\n",
       "count                          3.735000e+03   \n",
       "mean                           2.915750e+06   \n",
       "std                            9.566440e+06   \n",
       "min                            1.136000e+03   \n",
       "25%                            9.247600e+04   \n",
       "50%                            8.321420e+05   \n",
       "75%                            2.499081e+06   \n",
       "max                            9.096888e+07   \n",
       "\n",
       "       60+ Years (Individuals Vaccinated)  Male (Individuals Vaccinated)  \\\n",
       "count                        3.735000e+03                   5.920000e+03   \n",
       "mean                         2.626746e+06                   2.411224e+06   \n",
       "std                          8.191239e+06                   9.778427e+06   \n",
       "min                          5.580000e+02                   0.000000e+00   \n",
       "25%                          5.615200e+04                   3.849650e+04   \n",
       "50%                          7.887420e+05                   2.049135e+05   \n",
       "75%                          2.335726e+06                   1.882112e+06   \n",
       "max                          6.731098e+07                   1.349420e+08   \n",
       "\n",
       "       Female (Individuals Vaccinated)  Transgender (Individuals Vaccinated)  \n",
       "count                     5.920000e+03                           5920.000000  \n",
       "mean                      2.135228e+06                            668.468919  \n",
       "std                       8.562723e+06                           2897.771611  \n",
       "min                       2.000000e+00                              0.000000  \n",
       "25%                       3.263750e+04                              3.750000  \n",
       "50%                       1.983260e+05                             52.000000  \n",
       "75%                       1.628501e+06                            476.250000  \n",
       "max                       1.156684e+08                          46462.000000  \n",
       "\n",
       "[8 rows x 22 columns]"
      ]
     },
     "execution_count": 266,
     "metadata": {},
     "output_type": "execute_result"
    }
   ],
   "source": [
    "# Summary statistics for vaccines in India\n",
    "vacc.describe()"
   ]
  },
  {
   "cell_type": "markdown",
   "metadata": {},
   "source": [
    "<a id='missing_outliers'></a>\n",
    "### 2.2 How many missing data and outliers? "
   ]
  },
  {
   "cell_type": "code",
   "execution_count": 267,
   "metadata": {
    "scrolled": true
   },
   "outputs": [
    {
     "data": {
      "text/plain": [
       "Unnamed: 0                 0\n",
       "Province/State         18214\n",
       "Country_Region             0\n",
       "Last Update            18162\n",
       "Confirmed                  0\n",
       "Deaths                     2\n",
       "Recovered               2555\n",
       "Date                       0\n",
       "Latitude               18193\n",
       "Longitude              18193\n",
       "FIPS                   18214\n",
       "Admin2                 18214\n",
       "Province_State           132\n",
       "Last_Update               52\n",
       "Lat                      542\n",
       "Long_                    542\n",
       "Active                  2605\n",
       "Combined_Key              52\n",
       "Incidence_Rate         12778\n",
       "Case-Fatality_Ratio    12834\n",
       "Incident_Rate           6046\n",
       "Case_Fatality_Ratio     6116\n",
       "dtype: int64"
      ]
     },
     "execution_count": 267,
     "metadata": {},
     "output_type": "execute_result"
    }
   ],
   "source": [
    "# Provides the number of missing values for cases in India\n",
    "cases.isnull().sum()"
   ]
  },
  {
   "cell_type": "code",
   "execution_count": 268,
   "metadata": {
    "scrolled": true
   },
   "outputs": [
    {
     "data": {
      "text/plain": [
       "153446"
      ]
     },
     "execution_count": 268,
     "metadata": {},
     "output_type": "execute_result"
    }
   ],
   "source": [
    "cases.isnull().sum().sum()"
   ]
  },
  {
   "cell_type": "code",
   "execution_count": 269,
   "metadata": {
    "scrolled": true
   },
   "outputs": [
    {
     "data": {
      "text/plain": [
       "Unnamed: 0                                 0\n",
       "Updated On                                 0\n",
       "State                                      0\n",
       "Total Doses Administered                   0\n",
       "Sessions                                   0\n",
       "Sites                                      0\n",
       "First Dose Administered                    0\n",
       "Second Dose Administered                   0\n",
       "Male (Doses Administered)               5920\n",
       "Female (Doses Administered)             5920\n",
       "Transgender (Doses Administered)        5920\n",
       "Covaxin (Doses Administered)               0\n",
       "CoviShield (Doses Administered)            0\n",
       "Sputnik V (Doses Administered)          4626\n",
       "AEFI                                    2183\n",
       "18-44 Years (Doses Administered)        5920\n",
       "45-60 Years (Doses Administered)        5920\n",
       "60+ Years (Doses Administered)          5920\n",
       "18-44 Years (Individuals Vaccinated)    6256\n",
       "45-60 Years (Individuals Vaccinated)    6255\n",
       "60+ Years (Individuals Vaccinated)      6255\n",
       "Male (Individuals Vaccinated)           4070\n",
       "Female (Individuals Vaccinated)         4070\n",
       "Transgender (Individuals Vaccinated)    4070\n",
       "dtype: int64"
      ]
     },
     "execution_count": 269,
     "metadata": {},
     "output_type": "execute_result"
    }
   ],
   "source": [
    "# Provides the number of missing values for vaccines in India\n",
    "vacc.isnull().sum()"
   ]
  },
  {
   "cell_type": "code",
   "execution_count": 270,
   "metadata": {},
   "outputs": [
    {
     "data": {
      "text/plain": [
       "73305"
      ]
     },
     "execution_count": 270,
     "metadata": {},
     "output_type": "execute_result"
    }
   ],
   "source": [
    "vacc.isnull().sum().sum()"
   ]
  },
  {
   "cell_type": "code",
   "execution_count": 271,
   "metadata": {},
   "outputs": [
    {
     "name": "stdout",
     "output_type": "stream",
     "text": [
      "[0.50389821 0.50389821 0.50389821 ... 1.57756013 0.08554065 1.41655113]\n"
     ]
    }
   ],
   "source": [
    "z_confirm = np.abs(stats.zscore(cases['Confirmed']))\n",
    "print(z_confirm)"
   ]
  },
  {
   "cell_type": "code",
   "execution_count": 272,
   "metadata": {},
   "outputs": [
    {
     "name": "stdout",
     "output_type": "stream",
     "text": [
      "[0.24003339 0.23997215 0.24003254 ... 1.47093376 0.08226338 0.71654862]\n"
     ]
    }
   ],
   "source": [
    "z_adminstered = np.abs(stats.zscore(vacc['Total Doses Administered']))\n",
    "print(z_adminstered)"
   ]
  },
  {
   "cell_type": "code",
   "execution_count": 273,
   "metadata": {
    "scrolled": false
   },
   "outputs": [
    {
     "name": "stdout",
     "output_type": "stream",
     "text": [
      "(array([11056, 11093, 11130, 11167, 11204, 11241, 11278, 11315, 11352,\n",
      "       11389, 11426, 11463, 11500, 11537, 11574, 11611, 11648, 11685,\n",
      "       11722, 11759, 11796, 11833, 11870, 11907, 11944, 11981, 12018,\n",
      "       12055, 12092, 12129, 12166, 12203, 12240, 12277, 12314, 12351,\n",
      "       12388, 12425, 12462, 12499, 12536, 12573, 12610, 12647, 12684,\n",
      "       12721, 12758, 12795, 12832, 12869, 12906, 12943, 12980, 13017,\n",
      "       13054, 13091, 13128, 13165, 13202, 13239, 13276, 13313, 13350,\n",
      "       13387, 13424, 13461, 13498, 13535, 13572, 13609, 13646, 13683,\n",
      "       13720, 13757, 13794, 13831, 13868, 13905, 13942, 13979, 14016,\n",
      "       14053, 14090, 14127, 14164, 14201, 14234, 14238, 14271, 14275,\n",
      "       14308, 14312, 14345, 14349, 14382, 14386, 14419, 14423, 14456,\n",
      "       14460, 14493, 14497, 14530, 14534, 14567, 14571, 14604, 14608,\n",
      "       14641, 14645, 14678, 14682, 14715, 14719, 14752, 14756, 14789,\n",
      "       14793, 14826, 14830, 14863, 14867, 14900, 14904, 14936, 14937,\n",
      "       14941, 14973, 14974, 14978, 15010, 15011, 15015, 15047, 15048,\n",
      "       15052, 15084, 15085, 15089, 15121, 15122, 15126, 15158, 15159,\n",
      "       15163, 15195, 15196, 15200, 15232, 15233, 15237, 15269, 15270,\n",
      "       15274, 15306, 15307, 15311, 15343, 15344, 15348, 15380, 15381,\n",
      "       15385, 15417, 15418, 15422, 15454, 15455, 15459, 15491, 15492,\n",
      "       15496, 15528, 15529, 15533, 15565, 15566, 15570, 15602, 15603,\n",
      "       15607, 15639, 15640, 15644, 15676, 15677, 15681, 15713, 15714,\n",
      "       15718, 15750, 15751, 15755, 15787, 15788, 15792, 15824, 15825,\n",
      "       15829, 15861, 15862, 15866, 15898, 15899, 15903, 15935, 15936,\n",
      "       15940, 15972, 15973, 15977, 16009, 16010, 16014, 16046, 16047,\n",
      "       16051, 16083, 16084, 16088, 16120, 16121, 16125, 16157, 16158,\n",
      "       16162, 16194, 16195, 16199, 16231, 16232, 16236, 16268, 16269,\n",
      "       16273, 16305, 16306, 16310, 16342, 16343, 16347, 16379, 16380,\n",
      "       16384, 16416, 16417, 16421, 16453, 16454, 16458, 16490, 16491,\n",
      "       16495, 16527, 16528, 16532, 16564, 16565, 16569, 16601, 16602,\n",
      "       16606, 16638, 16639, 16643, 16675, 16676, 16680, 16712, 16713,\n",
      "       16717, 16749, 16750, 16754, 16786, 16787, 16791, 16823, 16824,\n",
      "       16828, 16860, 16861, 16865, 16897, 16898, 16902, 16934, 16935,\n",
      "       16939, 16971, 16972, 16976, 17008, 17009, 17013, 17045, 17046,\n",
      "       17050, 17082, 17083, 17087, 17119, 17120, 17124, 17156, 17157,\n",
      "       17161, 17193, 17194, 17198, 17230, 17231, 17235, 17267, 17268,\n",
      "       17272, 17304, 17305, 17309, 17341, 17342, 17346, 17378, 17379,\n",
      "       17383, 17415, 17416, 17420, 17452, 17453, 17457, 17489, 17490,\n",
      "       17494, 17526, 17527, 17531, 17563, 17564, 17568, 17600, 17601,\n",
      "       17605, 17637, 17638, 17642, 17674, 17675, 17679, 17711, 17712,\n",
      "       17716, 17748, 17749, 17753, 17785, 17786, 17790, 17822, 17823,\n",
      "       17827, 17859, 17860, 17864, 17896, 17897, 17901, 17933, 17934,\n",
      "       17938, 17970, 17971, 17975, 18007, 18008, 18012, 18044, 18045,\n",
      "       18049, 18081, 18082, 18086, 18118, 18119, 18123, 18155, 18156,\n",
      "       18160, 18192, 18193, 18197]),)\n"
     ]
    }
   ],
   "source": [
    "threshold = 3\n",
    "print(np.where(z_confirm>3))"
   ]
  },
  {
   "cell_type": "code",
   "execution_count": 274,
   "metadata": {},
   "outputs": [
    {
     "data": {
      "text/plain": [
       "(array([5156, 5193, 5230, 5267, 5304, 5341, 5378, 5415, 5452, 5489, 5526,\n",
       "        5563, 5600, 5637, 5674, 5711, 5748, 5785, 5822, 5859, 5896, 5933,\n",
       "        5970, 6007, 6044, 6081, 6118, 6155, 6192, 6229, 6266, 6303, 6340,\n",
       "        6377, 6414, 6451, 6488, 6525, 6562, 6599, 6636, 6673, 6710, 6747,\n",
       "        6784, 6821, 6858, 6895, 6932, 6969, 7006, 7043, 7080, 7117, 7154,\n",
       "        7191, 7228, 7265, 7302, 7339, 7376, 7413, 7450, 7487, 7524, 7561,\n",
       "        7598, 7635, 7672, 7709, 7746, 7783, 7820, 7857, 7894, 7931, 7968,\n",
       "        8005, 8042, 8079, 8116, 8153, 8190, 8227, 8264, 8301, 8338, 8375,\n",
       "        8412, 8449, 8486, 8523, 8560, 8597, 8634, 8671, 8708, 8745, 8782,\n",
       "        8819, 8856, 8893, 8930, 8967, 9004, 9041, 9078, 9115, 9152, 9189,\n",
       "        9226, 9263, 9300, 9337, 9374, 9411, 9448, 9485, 9522, 9559, 9596,\n",
       "        9633, 9670, 9707, 9744, 9781, 9818, 9855, 9892, 9929, 9966]),)"
      ]
     },
     "execution_count": 274,
     "metadata": {},
     "output_type": "execute_result"
    }
   ],
   "source": [
    "np.where(z_adminstered>3)"
   ]
  },
  {
   "cell_type": "markdown",
   "metadata": {},
   "source": [
    "### 2.3 Any Inconsistent, Incomplete, duplicate or incorrect data"
   ]
  },
  {
   "cell_type": "code",
   "execution_count": 275,
   "metadata": {},
   "outputs": [
    {
     "data": {
      "text/plain": [
       "0"
      ]
     },
     "execution_count": 275,
     "metadata": {},
     "output_type": "execute_result"
    }
   ],
   "source": [
    "cases.duplicated().sum()"
   ]
  },
  {
   "cell_type": "code",
   "execution_count": 276,
   "metadata": {},
   "outputs": [
    {
     "data": {
      "text/plain": [
       "0"
      ]
     },
     "execution_count": 276,
     "metadata": {},
     "output_type": "execute_result"
    }
   ],
   "source": [
    "vacc.duplicated().sum()"
   ]
  },
  {
   "cell_type": "code",
   "execution_count": 277,
   "metadata": {},
   "outputs": [
    {
     "data": {
      "text/plain": [
       "0        True\n",
       "1        True\n",
       "2        True\n",
       "3        True\n",
       "4        True\n",
       "         ... \n",
       "18209    True\n",
       "18210    True\n",
       "18211    True\n",
       "18212    True\n",
       "18213    True\n",
       "Length: 18214, dtype: bool"
      ]
     },
     "execution_count": 277,
     "metadata": {},
     "output_type": "execute_result"
    }
   ],
   "source": [
    "incomplete_cases = cases.isnull().any(axis=1)\n",
    "incomplete_cases"
   ]
  },
  {
   "cell_type": "code",
   "execution_count": 278,
   "metadata": {
    "scrolled": true
   },
   "outputs": [
    {
     "data": {
      "text/plain": [
       "0       True\n",
       "1       True\n",
       "2       True\n",
       "3       True\n",
       "4       True\n",
       "        ... \n",
       "9985    True\n",
       "9986    True\n",
       "9987    True\n",
       "9988    True\n",
       "9989    True\n",
       "Length: 9990, dtype: bool"
      ]
     },
     "execution_count": 278,
     "metadata": {},
     "output_type": "execute_result"
    }
   ],
   "source": [
    "incomplete_vacc = vacc.isnull().any(axis=1)\n",
    "incomplete_vacc"
   ]
  },
  {
   "cell_type": "markdown",
   "metadata": {},
   "source": [
    "***\n",
    "## 3. Data Cleaning"
   ]
  },
  {
   "cell_type": "markdown",
   "metadata": {},
   "source": [
    "### 3.1 cases "
   ]
  },
  {
   "cell_type": "code",
   "execution_count": 279,
   "metadata": {},
   "outputs": [
    {
     "name": "stdout",
     "output_type": "stream",
     "text": [
      "<class 'pandas.core.frame.DataFrame'>\n",
      "RangeIndex: 18214 entries, 0 to 18213\n",
      "Data columns (total 22 columns):\n",
      " #   Column               Non-Null Count  Dtype  \n",
      "---  ------               --------------  -----  \n",
      " 0   Unnamed: 0           18214 non-null  int64  \n",
      " 1   Province/State       0 non-null      float64\n",
      " 2   Country_Region       18214 non-null  object \n",
      " 3   Last Update          52 non-null     object \n",
      " 4   Confirmed            18214 non-null  float64\n",
      " 5   Deaths               18212 non-null  float64\n",
      " 6   Recovered            15659 non-null  float64\n",
      " 7   Date                 18214 non-null  object \n",
      " 8   Latitude             21 non-null     float64\n",
      " 9   Longitude            21 non-null     float64\n",
      " 10  FIPS                 0 non-null      float64\n",
      " 11  Admin2               0 non-null      float64\n",
      " 12  Province_State       18082 non-null  object \n",
      " 13  Last_Update          18162 non-null  object \n",
      " 14  Lat                  17672 non-null  float64\n",
      " 15  Long_                17672 non-null  float64\n",
      " 16  Active               15609 non-null  float64\n",
      " 17  Combined_Key         18162 non-null  object \n",
      " 18  Incidence_Rate       5436 non-null   float64\n",
      " 19  Case-Fatality_Ratio  5380 non-null   float64\n",
      " 20  Incident_Rate        12168 non-null  float64\n",
      " 21  Case_Fatality_Ratio  12098 non-null  object \n",
      "dtypes: float64(14), int64(1), object(7)\n",
      "memory usage: 3.1+ MB\n"
     ]
    }
   ],
   "source": [
    "cases.info()"
   ]
  },
  {
   "cell_type": "code",
   "execution_count": 280,
   "metadata": {
    "scrolled": true
   },
   "outputs": [
    {
     "data": {
      "text/plain": [
       "Unnamed: 0             0.000000\n",
       "Province/State         1.000000\n",
       "Country_Region         0.000000\n",
       "Last Update            0.997145\n",
       "Confirmed              0.000000\n",
       "Deaths                 0.000110\n",
       "Recovered              0.140277\n",
       "Date                   0.000000\n",
       "Latitude               0.998847\n",
       "Longitude              0.998847\n",
       "FIPS                   1.000000\n",
       "Admin2                 1.000000\n",
       "Province_State         0.007247\n",
       "Last_Update            0.002855\n",
       "Lat                    0.029757\n",
       "Long_                  0.029757\n",
       "Active                 0.143022\n",
       "Combined_Key           0.002855\n",
       "Incidence_Rate         0.701548\n",
       "Case-Fatality_Ratio    0.704623\n",
       "Incident_Rate          0.331942\n",
       "Case_Fatality_Ratio    0.335786\n",
       "dtype: float64"
      ]
     },
     "execution_count": 280,
     "metadata": {},
     "output_type": "execute_result"
    }
   ],
   "source": [
    "# Provides the fraction of nulls in a particular column\n",
    "cases.isnull().sum() / len(cases)"
   ]
  },
  {
   "cell_type": "markdown",
   "metadata": {},
   "source": [
    "Above we can see that `Province/State`, `FIPS`, `Admin2` have a Null Ratio of `1.00` \n",
    "So we can go ahead and drop these columns from our dataframe"
   ]
  },
  {
   "cell_type": "code",
   "execution_count": 281,
   "metadata": {},
   "outputs": [],
   "source": [
    "#Dropping the columns with 100% null values\n",
    "cases.drop(['Province/State', 'FIPS', 'Admin2'], inplace = True, axis = 1)"
   ]
  },
  {
   "cell_type": "markdown",
   "metadata": {},
   "source": [
    "`Last Update`, `Latitude` and `Longitude` have very few non-null values. This is because they are repeated columns corresponding `Last_Update`, `Lat` and `Long_` which have a low Null Ratio. Due to this we have decided to merge the values from the first set *(High Null Ratio)* to its corresponding second set column *(Low Null Ratio)*"
   ]
  },
  {
   "cell_type": "code",
   "execution_count": 282,
   "metadata": {},
   "outputs": [
    {
     "name": "stdout",
     "output_type": "stream",
     "text": [
      "52\n",
      "542\n",
      "542\n"
     ]
    }
   ],
   "source": [
    "# Number of nulls in second set columns before combining\n",
    "print(cases['Last_Update'].isnull().sum())\n",
    "print(cases['Lat'].isnull().sum())\n",
    "print(cases['Long_'].isnull().sum())"
   ]
  },
  {
   "cell_type": "code",
   "execution_count": 283,
   "metadata": {},
   "outputs": [],
   "source": [
    "# For Last Update and Last_Update\n",
    "cases['Last_Update'] = cases['Last_Update'].combine_first(cases['Last Update'])\n",
    "\n",
    "# For Latitude and Lat\n",
    "cases['Lat'] = cases['Lat'].combine_first(cases['Latitude'])\n",
    "\n",
    "# For Longitude and Long\n",
    "cases['Long_'] = cases['Long_'].combine_first(cases['Longitude'])"
   ]
  },
  {
   "cell_type": "code",
   "execution_count": 284,
   "metadata": {},
   "outputs": [
    {
     "name": "stdout",
     "output_type": "stream",
     "text": [
      "0\n",
      "521\n",
      "521\n"
     ]
    }
   ],
   "source": [
    "# Number of nulls in second set columns after combining\n",
    "print(cases['Last_Update'].isnull().sum())\n",
    "print(cases['Lat'].isnull().sum())\n",
    "print(cases['Long_'].isnull().sum())"
   ]
  },
  {
   "cell_type": "markdown",
   "metadata": {},
   "source": [
    "Now that `Last Update`, `Latitude` and `Longitude` have been combined into their corresponding `Last_Update`, `Lat` and `Long_` columns, the first set is now redundant. So we can drop them"
   ]
  },
  {
   "cell_type": "code",
   "execution_count": 285,
   "metadata": {},
   "outputs": [],
   "source": [
    "cases.drop(['Last Update', 'Latitude', 'Longitude'], inplace=True, axis = 1)"
   ]
  },
  {
   "cell_type": "code",
   "execution_count": 286,
   "metadata": {},
   "outputs": [
    {
     "name": "stdout",
     "output_type": "stream",
     "text": [
      "<class 'pandas.core.frame.DataFrame'>\n",
      "RangeIndex: 18214 entries, 0 to 18213\n",
      "Data columns (total 16 columns):\n",
      " #   Column               Non-Null Count  Dtype  \n",
      "---  ------               --------------  -----  \n",
      " 0   Unnamed: 0           18214 non-null  int64  \n",
      " 1   Country_Region       18214 non-null  object \n",
      " 2   Confirmed            18214 non-null  float64\n",
      " 3   Deaths               18212 non-null  float64\n",
      " 4   Recovered            15659 non-null  float64\n",
      " 5   Date                 18214 non-null  object \n",
      " 6   Province_State       18082 non-null  object \n",
      " 7   Last_Update          18214 non-null  object \n",
      " 8   Lat                  17693 non-null  float64\n",
      " 9   Long_                17693 non-null  float64\n",
      " 10  Active               15609 non-null  float64\n",
      " 11  Combined_Key         18162 non-null  object \n",
      " 12  Incidence_Rate       5436 non-null   float64\n",
      " 13  Case-Fatality_Ratio  5380 non-null   float64\n",
      " 14  Incident_Rate        12168 non-null  float64\n",
      " 15  Case_Fatality_Ratio  12098 non-null  object \n",
      "dtypes: float64(9), int64(1), object(6)\n",
      "memory usage: 2.2+ MB\n"
     ]
    }
   ],
   "source": [
    "# Info after cleaning cases\n",
    "cases.info()"
   ]
  },
  {
   "cell_type": "markdown",
   "metadata": {},
   "source": [
    "### 3.2 vacc"
   ]
  },
  {
   "cell_type": "code",
   "execution_count": 287,
   "metadata": {},
   "outputs": [
    {
     "name": "stdout",
     "output_type": "stream",
     "text": [
      "<class 'pandas.core.frame.DataFrame'>\n",
      "RangeIndex: 9990 entries, 0 to 9989\n",
      "Data columns (total 24 columns):\n",
      " #   Column                                Non-Null Count  Dtype  \n",
      "---  ------                                --------------  -----  \n",
      " 0   Unnamed: 0                            9990 non-null   int64  \n",
      " 1   Updated On                            9990 non-null   object \n",
      " 2   State                                 9990 non-null   object \n",
      " 3   Total Doses Administered              9990 non-null   float64\n",
      " 4   Sessions                              9990 non-null   float64\n",
      " 5   Sites                                 9990 non-null   float64\n",
      " 6   First Dose Administered               9990 non-null   float64\n",
      " 7   Second Dose Administered              9990 non-null   float64\n",
      " 8   Male (Doses Administered)             4070 non-null   float64\n",
      " 9   Female (Doses Administered)           4070 non-null   float64\n",
      " 10  Transgender (Doses Administered)      4070 non-null   float64\n",
      " 11  Covaxin (Doses Administered)          9990 non-null   float64\n",
      " 12  CoviShield (Doses Administered)       9990 non-null   float64\n",
      " 13  Sputnik V (Doses Administered)        5364 non-null   float64\n",
      " 14  AEFI                                  7807 non-null   float64\n",
      " 15  18-44 Years (Doses Administered)      4070 non-null   float64\n",
      " 16  45-60 Years (Doses Administered)      4070 non-null   float64\n",
      " 17  60+ Years (Doses Administered)        4070 non-null   float64\n",
      " 18  18-44 Years (Individuals Vaccinated)  3734 non-null   float64\n",
      " 19  45-60 Years (Individuals Vaccinated)  3735 non-null   float64\n",
      " 20  60+ Years (Individuals Vaccinated)    3735 non-null   float64\n",
      " 21  Male (Individuals Vaccinated)         5920 non-null   float64\n",
      " 22  Female (Individuals Vaccinated)       5920 non-null   float64\n",
      " 23  Transgender (Individuals Vaccinated)  5920 non-null   float64\n",
      "dtypes: float64(21), int64(1), object(2)\n",
      "memory usage: 1.8+ MB\n"
     ]
    }
   ],
   "source": [
    "vacc.info()"
   ]
  },
  {
   "cell_type": "code",
   "execution_count": 288,
   "metadata": {},
   "outputs": [
    {
     "data": {
      "text/plain": [
       "Unnamed: 0                              0.000000\n",
       "Updated On                              0.000000\n",
       "State                                   0.000000\n",
       "Total Doses Administered                0.000000\n",
       "Sessions                                0.000000\n",
       "Sites                                   0.000000\n",
       "First Dose Administered                 0.000000\n",
       "Second Dose Administered                0.000000\n",
       "Male (Doses Administered)               0.592593\n",
       "Female (Doses Administered)             0.592593\n",
       "Transgender (Doses Administered)        0.592593\n",
       "Covaxin (Doses Administered)            0.000000\n",
       "CoviShield (Doses Administered)         0.000000\n",
       "Sputnik V (Doses Administered)          0.463063\n",
       "AEFI                                    0.218519\n",
       "18-44 Years (Doses Administered)        0.592593\n",
       "45-60 Years (Doses Administered)        0.592593\n",
       "60+ Years (Doses Administered)          0.592593\n",
       "18-44 Years (Individuals Vaccinated)    0.626226\n",
       "45-60 Years (Individuals Vaccinated)    0.626126\n",
       "60+ Years (Individuals Vaccinated)      0.626126\n",
       "Male (Individuals Vaccinated)           0.407407\n",
       "Female (Individuals Vaccinated)         0.407407\n",
       "Transgender (Individuals Vaccinated)    0.407407\n",
       "dtype: float64"
      ]
     },
     "execution_count": 288,
     "metadata": {},
     "output_type": "execute_result"
    }
   ],
   "source": [
    "# Provides the fraction of nulls in a particular column\n",
    "vacc.isnull().sum() / len(vacc)"
   ]
  },
  {
   "cell_type": "markdown",
   "metadata": {},
   "source": [
    "There is no column with a significant majority of Nulls. **All columns can be left as is**"
   ]
  },
  {
   "cell_type": "markdown",
   "metadata": {},
   "source": [
    "***\n",
    "<a id='Visualization'></a>\n",
    "## 4. Visualization"
   ]
  },
  {
   "cell_type": "markdown",
   "metadata": {},
   "source": [
    "### 4.1 Histograms"
   ]
  },
  {
   "cell_type": "code",
   "execution_count": 289,
   "metadata": {},
   "outputs": [
    {
     "data": {
      "text/plain": [
       "<matplotlib.axes._subplots.AxesSubplot at 0x7fe4a8de2fd0>"
      ]
     },
     "execution_count": 289,
     "metadata": {},
     "output_type": "execute_result"
    },
    {
     "data": {
      "image/png": "[encoded data removed]",
      "text/plain": [
       "<Figure size 432x288 with 1 Axes>"
      ]
     },
     "metadata": {},
     "output_type": "display_data"
    }
   ],
   "source": [
    "histogram_filter_cases = cases[['Confirmed', 'Recovered']]\n",
    "sns.histplot(data=histogram_filter_cases, bins=30, kde=True)"
   ]
  },
  {
   "cell_type": "code",
   "execution_count": 290,
   "metadata": {},
   "outputs": [
    {
     "data": {
      "text/plain": [
       "<matplotlib.axes._subplots.AxesSubplot at 0x7fe4a7a0ad90>"
      ]
     },
     "execution_count": 290,
     "metadata": {},
     "output_type": "execute_result"
    },
    {
     "data": {
      "image/png": "[encoded data removed]",
      "text/plain": [
       "<Figure size 432x288 with 1 Axes>"
      ]
     },
     "metadata": {},
     "output_type": "display_data"
    }
   ],
   "source": [
    "histogram_filter_cases = cases[['Deaths']]\n",
    "sns.histplot(data=histogram_filter_cases, bins=30, kde=True)"
   ]
  },
  {
   "cell_type": "markdown",
   "metadata": {},
   "source": [
    "### 4.2 Bar Charts"
   ]
  },
  {
   "cell_type": "code",
   "execution_count": 291,
   "metadata": {
    "scrolled": true
   },
   "outputs": [
    {
     "data": {
      "text/plain": [
       "<matplotlib.axes._subplots.AxesSubplot at 0x7fe4aa12f3d0>"
      ]
     },
     "execution_count": 291,
     "metadata": {},
     "output_type": "execute_result"
    },
    {
     "data": {
      "image/png": "[encoded data removed]",
      "text/plain": [
       "<Figure size 432x288 with 1 Axes>"
      ]
     },
     "metadata": {},
     "output_type": "display_data"
    }
   ],
   "source": [
    "barchart_filter_cases = cases[['Confirmed', 'Recovered','Deaths']]\n",
    "sns.set_theme(style='whitegrid')\n",
    "sns.barplot(data=barchart_filter_cases)"
   ]
  },
  {
   "cell_type": "code",
   "execution_count": 292,
   "metadata": {
    "scrolled": true
   },
   "outputs": [
    {
     "data": {
      "text/plain": [
       "<matplotlib.axes._subplots.AxesSubplot at 0x7fe4aa043190>"
      ]
     },
     "execution_count": 292,
     "metadata": {},
     "output_type": "execute_result"
    },
    {
     "data": {
      "image/png": "[encoded data removed]",
      "text/plain": [
       "<Figure size 432x288 with 1 Axes>"
      ]
     },
     "metadata": {},
     "output_type": "display_data"
    }
   ],
   "source": [
    "barchart_filter_vacc = vacc[['First Dose Administered', 'Second Dose Administered']]\n",
    "sns.set_theme(style='whitegrid')\n",
    "sns.barplot(data=barchart_filter_vacc)"
   ]
  },
  {
   "cell_type": "code",
   "execution_count": 293,
   "metadata": {},
   "outputs": [
    {
     "data": {
      "text/plain": [
       "[[Text(0, 0, '18-44 Years'),\n",
       "  Text(0, 0, '45-60 Years'),\n",
       "  Text(0, 0, '60+ Years')]]"
      ]
     },
     "execution_count": 293,
     "metadata": {},
     "output_type": "execute_result"
    },
    {
     "data": {
      "image/png": "[encoded data removed]",
      "text/plain": [
       "<Figure size 432x288 with 1 Axes>"
      ]
     },
     "metadata": {},
     "output_type": "display_data"
    }
   ],
   "source": [
    "barchart_filter_vacc = vacc[['18-44 Years (Doses Administered)', '45-60 Years (Doses Administered)', '60+ Years (Doses Administered)']]\n",
    "sns.set_theme(style='whitegrid')\n",
    "b = sns.barplot(data=barchart_filter_vacc)\n",
    "b.set(xticklabels=['18-44 Years','45-60 Years','60+ Years'])"
   ]
  },
  {
   "cell_type": "markdown",
   "metadata": {},
   "source": [
    "### 4.3 Line Plots "
   ]
  },
  {
   "cell_type": "markdown",
   "metadata": {},
   "source": [
    "#### Getting Time Series Data\n",
    "Before obtaining Line Plots we first extract the time series data. This is done by\n",
    "- Grouping by Date\n",
    "- Aggregating Confirmed, Deaths and Recovered by Sum"
   ]
  },
  {
   "cell_type": "code",
   "execution_count": 294,
   "metadata": {},
   "outputs": [],
   "source": [
    "# Cumulative Time Series (Add on to previous date's cases)\n",
    "cum_timeseries = cases.groupby(['Date']).agg(Confirmed = ('Confirmed', 'sum'), Deaths = ('Deaths', 'sum'), Recovered = ('Recovered', 'sum'))\n",
    "\n",
    "# Delta Time series (Cases on a particular day)\n",
    "delta_timeseries = cum_timeseries.diff()"
   ]
  },
  {
   "cell_type": "markdown",
   "metadata": {},
   "source": [
    "#### Plots"
   ]
  },
  {
   "cell_type": "markdown",
   "metadata": {},
   "source": [
    "**1. Confirmed Cases**"
   ]
  },
  {
   "cell_type": "code",
   "execution_count": 296,
   "metadata": {},
   "outputs": [
    {
     "data": {
      "text/plain": [
       "<matplotlib.axes._subplots.AxesSubplot at 0x7fe4a0673e80>"
      ]
     },
     "execution_count": 296,
     "metadata": {},
     "output_type": "execute_result"
    },
    {
     "data": {
      "image/png": "[encoded data removed]",
      "text/plain": [
       "<Figure size 432x288 with 1 Axes>"
      ]
     },
     "metadata": {},
     "output_type": "display_data"
    }
   ],
   "source": [
    "sns.lineplot(data = cum_timeseries, x = \"Date\", y = \"Confirmed\")"
   ]
  },
  {
   "cell_type": "code",
   "execution_count": 297,
   "metadata": {},
   "outputs": [
    {
     "data": {
      "text/plain": [
       "<matplotlib.axes._subplots.AxesSubplot at 0x7fe4aab3f940>"
      ]
     },
     "execution_count": 297,
     "metadata": {},
     "output_type": "execute_result"
    },
    {
     "data": {
      "image/png": "[encoded data removed]",
      "text/plain": [
       "<Figure size 432x288 with 1 Axes>"
      ]
     },
     "metadata": {},
     "output_type": "display_data"
    }
   ],
   "source": [
    "sns.lineplot(data = delta_timeseries, x = \"Date\", y = \"Confirmed\")"
   ]
  },
  {
   "cell_type": "markdown",
   "metadata": {},
   "source": [
    "**2. Deaths**"
   ]
  },
  {
   "cell_type": "code",
   "execution_count": 298,
   "metadata": {},
   "outputs": [
    {
     "data": {
      "text/plain": [
       "<matplotlib.axes._subplots.AxesSubplot at 0x7fe4ab3e07c0>"
      ]
     },
     "execution_count": 298,
     "metadata": {},
     "output_type": "execute_result"
    },
    {
     "data": {
      "image/png": "[encoded data removed]",
      "text/plain": [
       "<Figure size 432x288 with 1 Axes>"
      ]
     },
     "metadata": {},
     "output_type": "display_data"
    }
   ],
   "source": [
    "sns.lineplot(data = cum_timeseries, x = \"Date\", y = \"Deaths\")"
   ]
  },
  {
   "cell_type": "code",
   "execution_count": 299,
   "metadata": {},
   "outputs": [
    {
     "data": {
      "text/plain": [
       "<matplotlib.axes._subplots.AxesSubplot at 0x7fe4ab9f9100>"
      ]
     },
     "execution_count": 299,
     "metadata": {},
     "output_type": "execute_result"
    },
    {
     "data": {
      "image/png": "[encoded data removed]",
      "text/plain": [
       "<Figure size 432x288 with 1 Axes>"
      ]
     },
     "metadata": {},
     "output_type": "display_data"
    }
   ],
   "source": [
    "sns.lineplot(data = delta_timeseries, x = \"Date\", y = \"Deaths\")"
   ]
  },
  {
   "cell_type": "markdown",
   "metadata": {},
   "source": [
    "**3. Recovered**    \n",
    "***NOTE:*** Recovered data is only available upto `2021-08-04` and is missing after that date. So the plot has been done only considering dates before `2021-08-05`, after cleaning the data"
   ]
  },
  {
   "cell_type": "code",
   "execution_count": 318,
   "metadata": {},
   "outputs": [],
   "source": [
    "# Trimming off NaNs in Recovered Column after 2021-08-04 and then getting aggregate count by date\n",
    "trim_df = cases['Date'] < '2021-08-05'\n",
    "trim_cases = cases.loc[trim_df] \n",
    "rec_cum_timeseries = trim_cases.groupby(['Date']).agg(Recovered = ('Recovered', 'sum'))"
   ]
  },
  {
   "cell_type": "code",
   "execution_count": 316,
   "metadata": {},
   "outputs": [
    {
     "data": {
      "text/plain": [
       "<matplotlib.axes._subplots.AxesSubplot at 0x7fe491050df0>"
      ]
     },
     "execution_count": 316,
     "metadata": {},
     "output_type": "execute_result"
    },
    {
     "data": {
      "image/png": "[encoded data removed]",
      "text/plain": [
       "<Figure size 432x288 with 1 Axes>"
      ]
     },
     "metadata": {},
     "output_type": "display_data"
    }
   ],
   "source": [
    "sns.lineplot(data = rec_cum_timeseries , x = \"Date\", y = \"Recovered\")"
   ]
  },
  {
   "cell_type": "code",
   "execution_count": 317,
   "metadata": {},
   "outputs": [
    {
     "data": {
      "text/plain": [
       "<matplotlib.axes._subplots.AxesSubplot at 0x7fe4917f1130>"
      ]
     },
     "execution_count": 317,
     "metadata": {},
     "output_type": "execute_result"
    },
    {
     "data": {
      "image/png": "[encoded data removed]",
      "text/plain": [
       "<Figure size 432x288 with 1 Axes>"
      ]
     },
     "metadata": {},
     "output_type": "display_data"
    }
   ],
   "source": [
    "rec_delta_timeseries = rec_cum_timeseries.diff()\n",
    "sns.lineplot(data = rec_delta_timeseries, x = \"Date\", y = \"Recovered\")"
   ]
  },
  {
   "cell_type": "markdown",
   "metadata": {},
   "source": [
    "### 4.5 PCA "
   ]
  },
  {
   "cell_type": "code",
   "execution_count": null,
   "metadata": {},
   "outputs": [],
   "source": []
  },
  {
   "cell_type": "markdown",
   "metadata": {},
   "source": [
    "***\n",
    "## 6. Conclusion \n",
    "\n",
    "- How many rows and attributes?\n",
    "    - Size of cases in india is: `(18214, 22)`.\n",
    "    - Size of vaccinations in india is: `(9990, 24)`.\n",
    "- How many missing data and outliers?\n",
    "    - `153446` missing elements for cases.\n",
    "    - `73305` missing elements for vaccines.\n",
    "- Any inconsistent, incomplete, duplicate or incorrect data?\n",
    "    - All values in cases and vaccines are unique.\n",
    "    - Cases in india contains `18214` incomplete rows.\n",
    "    - Vaccinations in india contains `9990` incomplete rows.\n",
    "- Are the variables correlated to each other?\n",
    "\n",
    "- Are any of the preprocessing techniques needed: dimensionality reduction, range transformation, standardization, etc.?\n",
    "\n",
    "- Does PCA help visualize the data? Do we get any insights from histograms/bar charts/line plots, etc.?"
   ]
  },
  {
   "cell_type": "code",
   "execution_count": null,
   "metadata": {},
   "outputs": [],
   "source": []
  }
 ],
 "metadata": {
  "kernelspec": {
   "display_name": "Python 3",
   "language": "python",
   "name": "python3"
  },
  "language_info": {
   "codemirror_mode": {
    "name": "ipython",
    "version": 3
   },
   "file_extension": ".py",
   "mimetype": "text/x-python",
   "name": "python",
   "nbconvert_exporter": "python",
   "pygments_lexer": "ipython3",
   "version": "3.8.3"
  }
 },
 "nbformat": 4,
 "nbformat_minor": 5
}
