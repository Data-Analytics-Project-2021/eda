{
 "cells": [
  {
   "cell_type": "markdown",
   "id": "23442a6f",
   "metadata": {},
   "source": [
    "# EDA India"
   ]
  },
  {
   "cell_type": "markdown",
   "id": "3c89161d",
   "metadata": {},
   "source": [
    "## Overview\n",
    "This notebook contains **Exploratory Data Analysis** and **Visualization** for the cases and vaccinations in India.\n",
    "\n",
    "**Sections:**\n",
    "1. [Data Ingestion](#Data_Ingestion)\n",
    "2. [Summary Statistics](#Summary_Statistics)\n",
    "3. [Data Cleaning](#3.-Data-Cleaning)\n",
    "4. [Visualization](#Visualization)\n",
    "5. [Correlation](#Correlation)\n",
    "6. [Preprocessing](#Preprocessing)\n",
    "7. [Conclusion](#Conclusion)"
   ]
  },
  {
   "cell_type": "markdown",
   "id": "a6bf1983",
   "metadata": {},
   "source": [
    "***\n",
    "## Setup "
   ]
  },
  {
   "cell_type": "code",
   "execution_count": null,
   "id": "c5007460",
   "metadata": {},
   "outputs": [],
   "source": [
    "!pip install seaborn"
   ]
  },
  {
   "cell_type": "code",
   "execution_count": null,
   "id": "a2bd52ef",
   "metadata": {},
   "outputs": [],
   "source": [
    "import os\n",
    "from datetime import datetime\n",
    "import pandas as pd\n",
    "import seaborn as sns\n",
    "import matplotlib.pyplot as plt\n",
    "import numpy as np\n",
    "from scipy import stats\n",
    "from scipy.interpolate import CubicSpline"
   ]
  },
  {
   "cell_type": "markdown",
   "id": "e4bc2f30",
   "metadata": {},
   "source": [
    "***\n",
    "<a id='Data_Ingestion'></a>\n",
    "## 1. Data Ingestion"
   ]
  },
  {
   "cell_type": "markdown",
   "id": "023ff910",
   "metadata": {},
   "source": [
    "### 1.1 Getting daily state-wise cases for India"
   ]
  },
  {
   "cell_type": "code",
   "execution_count": null,
   "id": "caafaee4",
   "metadata": {},
   "outputs": [],
   "source": [
    "cases = pd.read_csv(\"india_cases_12-10-2021.csv\", index_col=0)\n",
    "cases"
   ]
  },
  {
   "cell_type": "markdown",
   "id": "d489ba9e",
   "metadata": {},
   "source": [
    "### 1.2  Getting daily state-wise vaccinations for India"
   ]
  },
  {
   "cell_type": "code",
   "execution_count": null,
   "id": "01791837",
   "metadata": {},
   "outputs": [],
   "source": [
    "vacc = pd.read_csv(\"india_vaccines_12-10-2021.csv\", index_col=0)\n",
    "vacc"
   ]
  },
  {
   "cell_type": "markdown",
   "id": "53046f88",
   "metadata": {},
   "source": [
    "***\n",
    "<a id='Summary_Statistics'></a>\n",
    "## 2. Summary statistics"
   ]
  },
  {
   "cell_type": "code",
   "execution_count": null,
   "id": "c0d5e45c",
   "metadata": {
    "scrolled": false
   },
   "outputs": [],
   "source": [
    "# Summary statistics for cases in India\n",
    "cases.describe()"
   ]
  },
  {
   "cell_type": "code",
   "execution_count": null,
   "id": "6c602001",
   "metadata": {},
   "outputs": [],
   "source": [
    "# Summary statistics for vaccines in India\n",
    "vacc.describe()"
   ]
  },
  {
   "cell_type": "markdown",
   "id": "b1c2e52c",
   "metadata": {},
   "source": [
    "<a id='missing_outliers'></a>\n",
    "### 2.2 How many missing data and outliers? "
   ]
  },
  {
   "cell_type": "code",
   "execution_count": null,
   "id": "55019229",
   "metadata": {
    "scrolled": true
   },
   "outputs": [],
   "source": [
    "# Provides the number of missing values for cases in India\n",
    "cases.isnull().sum()"
   ]
  },
  {
   "cell_type": "code",
   "execution_count": null,
   "id": "f1520868",
   "metadata": {
    "scrolled": true
   },
   "outputs": [],
   "source": [
    "cases.isnull().sum().sum()"
   ]
  },
  {
   "cell_type": "code",
   "execution_count": null,
   "id": "8f0d4763",
   "metadata": {
    "scrolled": true
   },
   "outputs": [],
   "source": [
    "# Provides the number of missing values for vaccines in India\n",
    "vacc.isnull().sum()"
   ]
  },
  {
   "cell_type": "code",
   "execution_count": null,
   "id": "70b60961",
   "metadata": {},
   "outputs": [],
   "source": [
    "vacc.isnull().sum().sum()"
   ]
  },
  {
   "cell_type": "code",
   "execution_count": null,
   "id": "8faa73e7",
   "metadata": {},
   "outputs": [],
   "source": [
    "z_confirm = np.abs(stats.zscore(cases['Confirmed']))\n",
    "print(z_confirm)"
   ]
  },
  {
   "cell_type": "code",
   "execution_count": null,
   "id": "7d99ac18",
   "metadata": {},
   "outputs": [],
   "source": [
    "z_adminstered = np.abs(stats.zscore(vacc['Total Doses Administered']))\n",
    "print(z_adminstered)"
   ]
  },
  {
   "cell_type": "code",
   "execution_count": null,
   "id": "8cc7baea",
   "metadata": {
    "scrolled": false
   },
   "outputs": [],
   "source": [
    "threshold = 3\n",
    "print(np.where(z_confirm>3))"
   ]
  },
  {
   "cell_type": "code",
   "execution_count": null,
   "id": "67396579",
   "metadata": {},
   "outputs": [],
   "source": [
    "np.where(z_adminstered>3)"
   ]
  },
  {
   "cell_type": "markdown",
   "id": "3db891db",
   "metadata": {},
   "source": [
    "### 2.3 Any Inconsistent, Incomplete, duplicate or incorrect data"
   ]
  },
  {
   "cell_type": "code",
   "execution_count": null,
   "id": "16985145",
   "metadata": {},
   "outputs": [],
   "source": [
    "cases.duplicated().sum()"
   ]
  },
  {
   "cell_type": "code",
   "execution_count": null,
   "id": "64a45ba6",
   "metadata": {},
   "outputs": [],
   "source": [
    "vacc.duplicated().sum()"
   ]
  },
  {
   "cell_type": "code",
   "execution_count": null,
   "id": "cae4f7f7",
   "metadata": {},
   "outputs": [],
   "source": [
    "incomplete_cases = cases.isnull().any(axis=1)\n",
    "incomplete_cases"
   ]
  },
  {
   "cell_type": "code",
   "execution_count": null,
   "id": "67dc5186",
   "metadata": {
    "scrolled": true
   },
   "outputs": [],
   "source": [
    "incomplete_vacc = vacc.isnull().any(axis=1)\n",
    "incomplete_vacc"
   ]
  },
  {
   "cell_type": "markdown",
   "id": "f43273c2",
   "metadata": {},
   "source": [
    "***\n",
    "## 3. Data Cleaning"
   ]
  },
  {
   "cell_type": "markdown",
   "id": "902a87a8",
   "metadata": {},
   "source": [
    "### 3.1 cases "
   ]
  },
  {
   "cell_type": "code",
   "execution_count": null,
   "id": "53e20af8",
   "metadata": {},
   "outputs": [],
   "source": [
    "cases.info()"
   ]
  },
  {
   "cell_type": "code",
   "execution_count": null,
   "id": "4ddd2873",
   "metadata": {
    "scrolled": true
   },
   "outputs": [],
   "source": [
    "# Provides the fraction of nulls in a particular column\n",
    "cases.isnull().sum() / len(cases)"
   ]
  },
  {
   "cell_type": "markdown",
   "id": "dca6ea35",
   "metadata": {},
   "source": [
    "Above we can see that `Province/State`, `FIPS`, `Admin2` have a Null Ratio of `1.00` \n",
    "So we can go ahead and drop these columns from our dataframe"
   ]
  },
  {
   "cell_type": "code",
   "execution_count": null,
   "id": "94b117b7",
   "metadata": {},
   "outputs": [],
   "source": [
    "#Dropping the columns with 100% null values\n",
    "cases.drop(['Province/State', 'FIPS', 'Admin2'], inplace = True, axis = 1)"
   ]
  },
  {
   "cell_type": "markdown",
   "id": "23cc4661",
   "metadata": {},
   "source": [
    "`Last Update`, `Latitude` and `Longitude` have very few non-null values. This is because they are repeated columns corresponding `Last_Update`, `Lat` and `Long_` which have a low Null Ratio. Due to this we have decided to merge the values from the first set *(High Null Ratio)* to its corresponding second set column *(Low Null Ratio)*"
   ]
  },
  {
   "cell_type": "code",
   "execution_count": null,
   "id": "93fbaff9",
   "metadata": {},
   "outputs": [],
   "source": [
    "# Number of nulls in second set columns before combining\n",
    "print(cases['Last_Update'].isnull().sum())\n",
    "print(cases['Lat'].isnull().sum())\n",
    "print(cases['Long_'].isnull().sum())"
   ]
  },
  {
   "cell_type": "code",
   "execution_count": null,
   "id": "51598829",
   "metadata": {},
   "outputs": [],
   "source": [
    "# For Last Update and Last_Update\n",
    "cases['Last_Update'] = cases['Last_Update'].combine_first(cases['Last Update'])\n",
    "\n",
    "# For Latitude and Lat\n",
    "cases['Lat'] = cases['Lat'].combine_first(cases['Latitude'])\n",
    "\n",
    "# For Longitude and Long\n",
    "cases['Long_'] = cases['Long_'].combine_first(cases['Longitude'])"
   ]
  },
  {
   "cell_type": "code",
   "execution_count": null,
   "id": "5730d7a7",
   "metadata": {},
   "outputs": [],
   "source": [
    "# Number of nulls in second set columns after combining\n",
    "print(cases['Last_Update'].isnull().sum())\n",
    "print(cases['Lat'].isnull().sum())\n",
    "print(cases['Long_'].isnull().sum())"
   ]
  },
  {
   "cell_type": "markdown",
   "id": "1541614c",
   "metadata": {},
   "source": [
    "Now that `Last Update`, `Latitude` and `Longitude` have been combined into their corresponding `Last_Update`, `Lat` and `Long_` columns, the first set is now redundant. So we can drop them"
   ]
  },
  {
   "cell_type": "code",
   "execution_count": null,
   "id": "3f891cd9",
   "metadata": {},
   "outputs": [],
   "source": [
    "cases.drop(['Last Update', 'Latitude', 'Longitude'], inplace=True, axis = 1)"
   ]
  },
  {
   "cell_type": "code",
   "execution_count": null,
   "id": "46ea5d00",
   "metadata": {},
   "outputs": [],
   "source": [
    "# Info after cleaning cases\n",
    "cases.info()"
   ]
  },
  {
   "cell_type": "markdown",
   "id": "55cac4a8",
   "metadata": {},
   "source": [
    "### 3.2 vacc"
   ]
  },
  {
   "cell_type": "code",
   "execution_count": null,
   "id": "303fa1a9",
   "metadata": {},
   "outputs": [],
   "source": [
    "vacc.info()"
   ]
  },
  {
   "cell_type": "code",
   "execution_count": null,
   "id": "1e39ab7d",
   "metadata": {},
   "outputs": [],
   "source": [
    "# Provides the fraction of nulls in a particular column\n",
    "vacc.isnull().sum() / len(vacc)"
   ]
  },
  {
   "cell_type": "markdown",
   "id": "b4f915e5",
   "metadata": {},
   "source": [
    "There is no column with a significant majority of Nulls. **All columns can be left as is**"
   ]
  },
  {
   "cell_type": "markdown",
   "id": "8043a562",
   "metadata": {},
   "source": [
    "***\n",
    "<a id='Visualization'></a>\n",
    "## 4. Visualization"
   ]
  },
  {
   "cell_type": "markdown",
   "id": "10ff899d",
   "metadata": {},
   "source": [
    "### 4.1 Histograms"
   ]
  },
  {
   "cell_type": "code",
   "execution_count": null,
   "id": "c088e39a",
   "metadata": {},
   "outputs": [],
   "source": [
    "histogram_filter_cases = cases[['Confirmed', 'Recovered']]\n",
    "sns.histplot(data=histogram_filter_cases, bins=30, kde=True)"
   ]
  },
  {
   "cell_type": "code",
   "execution_count": null,
   "id": "6ab7710a",
   "metadata": {},
   "outputs": [],
   "source": [
    "histogram_filter_cases = cases[['Deaths']]\n",
    "sns.histplot(data=histogram_filter_cases, bins=30, kde=True)"
   ]
  },
  {
   "cell_type": "markdown",
   "id": "f7f1479b",
   "metadata": {},
   "source": [
    "### 4.2 Bar Charts"
   ]
  },
  {
   "cell_type": "code",
   "execution_count": null,
   "id": "d8b44107",
   "metadata": {
    "scrolled": true
   },
   "outputs": [],
   "source": [
    "barchart_filter_cases = cases[['Confirmed', 'Recovered','Deaths']]\n",
    "sns.set_theme(style='whitegrid')\n",
    "sns.barplot(data=barchart_filter_cases)"
   ]
  },
  {
   "cell_type": "code",
   "execution_count": null,
   "id": "ee92d619",
   "metadata": {
    "scrolled": true
   },
   "outputs": [],
   "source": [
    "barchart_filter_vacc = vacc[['First Dose Administered', 'Second Dose Administered']]\n",
    "sns.set_theme(style='whitegrid')\n",
    "sns.barplot(data=barchart_filter_vacc)"
   ]
  },
  {
   "cell_type": "code",
   "execution_count": null,
   "id": "89597638",
   "metadata": {},
   "outputs": [],
   "source": [
    "barchart_filter_vacc = vacc[['18-44 Years (Doses Administered)', '45-60 Years (Doses Administered)', '60+ Years (Doses Administered)']]\n",
    "sns.set_theme(style='whitegrid')\n",
    "b = sns.barplot(data=barchart_filter_vacc)\n",
    "b.set(xticklabels=['18-44 Years','45-60 Years','60+ Years'])"
   ]
  },
  {
   "cell_type": "markdown",
   "id": "695bb11b",
   "metadata": {},
   "source": [
    "### 4.3 Line Plots "
   ]
  },
  {
   "cell_type": "markdown",
   "id": "b241e6ce",
   "metadata": {},
   "source": [
    "#### Getting Time Series Data\n",
    "Before obtaining Line Plots we first extract the time series data. This is done by\n",
    "- Grouping by Date\n",
    "- Aggregating Confirmed, Deaths and Recovered by Sum"
   ]
  },
  {
   "cell_type": "code",
   "execution_count": null,
   "id": "7f7837d2",
   "metadata": {},
   "outputs": [],
   "source": [
    "# Cumulative Time Series (Add on to previous date's cases)\n",
    "cum_timeseries = cases.groupby(['Date']).agg(Confirmed = ('Confirmed', 'sum'), Deaths = ('Deaths', 'sum'), Recovered = ('Recovered', 'sum'))\n",
    "\n",
    "# Delta Time series (Cases on a particular day)\n",
    "delta_timeseries = cum_timeseries.diff()"
   ]
  },
  {
   "cell_type": "markdown",
   "id": "bc03d91e",
   "metadata": {},
   "source": [
    "### Plots"
   ]
  },
  {
   "cell_type": "markdown",
   "id": "843f4620",
   "metadata": {},
   "source": [
    "**1. Confirmed Cases**"
   ]
  },
  {
   "cell_type": "markdown",
   "id": "754478b6",
   "metadata": {},
   "source": [
    "1.1 Cumulative confirmed cases"
   ]
  },
  {
   "cell_type": "code",
   "execution_count": null,
   "id": "9bf97222",
   "metadata": {},
   "outputs": [],
   "source": [
    "cum_timeseries.Confirmed.plot(figsize=(8, 8))"
   ]
  },
  {
   "cell_type": "markdown",
   "id": "b6b770e5",
   "metadata": {},
   "source": [
    "1.2 Daily confirmed cases"
   ]
  },
  {
   "cell_type": "code",
   "execution_count": null,
   "id": "83c2700e",
   "metadata": {},
   "outputs": [],
   "source": [
    "delta_timeseries.Confirmed.plot(figsize=(8, 8))"
   ]
  },
  {
   "cell_type": "markdown",
   "id": "a70367f5",
   "metadata": {},
   "source": [
    "**2. Deaths**"
   ]
  },
  {
   "cell_type": "markdown",
   "id": "1664e1e5",
   "metadata": {},
   "source": [
    "2.1 Cumulative Deaths"
   ]
  },
  {
   "cell_type": "code",
   "execution_count": null,
   "id": "14ddfaef",
   "metadata": {},
   "outputs": [],
   "source": [
    "cum_timeseries.Deaths.plot(figsize=(8, 8))"
   ]
  },
  {
   "cell_type": "markdown",
   "id": "34afb20c",
   "metadata": {},
   "source": [
    "2.1 Cumulative Deaths"
   ]
  },
  {
   "cell_type": "code",
   "execution_count": null,
   "id": "a18f6b3b",
   "metadata": {},
   "outputs": [],
   "source": [
    "delta_timeseries.Deaths.plot(figsize=(8, 8))"
   ]
  },
  {
   "cell_type": "markdown",
   "id": "5da5a606",
   "metadata": {},
   "source": [
    "**3. Recovered**    \n",
    "***NOTE:*** Recovered data is only available upto `2021-08-04` and is missing after that date. So the plot has been done only considering dates before `2021-08-05`, after cleaning the data"
   ]
  },
  {
   "cell_type": "code",
   "execution_count": null,
   "id": "6249390f",
   "metadata": {},
   "outputs": [],
   "source": [
    "# Trimming off NaNs in Recovered Column after 2021-08-04 and then getting aggregate count by date\n",
    "trim_df = cases['Date'] < '2021-08-05'\n",
    "trim_cases = cases.loc[trim_df] \n",
    "rec_cum_timeseries = trim_cases.groupby(['Date']).agg(Recovered = ('Recovered', 'sum'))"
   ]
  },
  {
   "cell_type": "code",
   "execution_count": null,
   "id": "2a4aeb04",
   "metadata": {},
   "outputs": [],
   "source": [
    "rec_cum_timeseries.Recovered.plot(figsize=(8, 8))"
   ]
  },
  {
   "cell_type": "code",
   "execution_count": null,
   "id": "df160ef4",
   "metadata": {},
   "outputs": [],
   "source": [
    "rec_delta_timeseries = rec_cum_timeseries.diff()\n",
    "rec_delta_timeseries.Recovered.plot(figsize=(8, 8))"
   ]
  },
  {
   "cell_type": "markdown",
   "id": "be8e876d",
   "metadata": {},
   "source": [
    "### 4.4 PCA"
   ]
  },
  {
   "cell_type": "markdown",
   "id": "c7bd39c4",
   "metadata": {},
   "source": [
    "#### 4.1 Convert categorical columns to numerical"
   ]
  },
  {
   "cell_type": "code",
   "execution_count": null,
   "id": "edab07cd",
   "metadata": {},
   "outputs": [],
   "source": []
  },
  {
   "cell_type": "markdown",
   "id": "baa766f3",
   "metadata": {},
   "source": [
    "***\n",
    "<a id='Correlation'></a>\n",
    "\n",
    "## 5. Correlation\n",
    "\n",
    "- Find the correlation matrix for `cases` and `vacc` to see if any attributes are strongly correlated (we take a threshold of 80%)\n",
    "- We see if the correlation is meaningful, or indicative of excessive attributes"
   ]
  },
  {
   "cell_type": "markdown",
   "id": "a0144a75",
   "metadata": {},
   "source": [
    "### 5.1 Correlation for `cases`"
   ]
  },
  {
   "cell_type": "code",
   "execution_count": null,
   "id": "a7d0f552",
   "metadata": {},
   "outputs": [],
   "source": [
    "# Correlation matrix\n",
    "corr_cases = cases.corr()\n",
    "\n",
    "# Generate a mask for the upper triangle\n",
    "mask = np.triu(np.ones_like(corr_cases, dtype=bool))\n",
    "\n",
    "# Set up the matplotlib figure\n",
    "f, ax = plt.subplots(figsize=(10, 10))\n",
    "\n",
    "sns.heatmap(corr_cases, mask=mask, center=0, square=True, annot=True)"
   ]
  },
  {
   "cell_type": "markdown",
   "id": "bab9db18",
   "metadata": {},
   "source": [
    "### Observations - `cases`\n",
    "\n",
    "1. We observe that `Deaths` and `Confirmed` are stronly positively correlated with a correlation coefficient of `0.91`\n",
    "2. We also observe that `Deaths` and `Recovered` are stronly positively correlated with a correlation coefficient of `0.92`\n",
    "3. Finally, we observe that `Recovered` and `Confirmed` are stronly positively correlated with a correlation coefficient of `1`\n",
    "4. There is no strong negative correlation between any of the attributes\n",
    "\n",
    "These observations are consistent with the expectation that as daily case numbers rise, recovered numbers and death counts rise"
   ]
  },
  {
   "cell_type": "markdown",
   "id": "490a5c4b",
   "metadata": {},
   "source": [
    "### 5.2 Correlation for `vacc`"
   ]
  },
  {
   "cell_type": "code",
   "execution_count": null,
   "id": "3caa08f2",
   "metadata": {},
   "outputs": [],
   "source": [
    "# Correlation matrix\n",
    "corr_vacc = vacc.corr()\n",
    "\n",
    "# Generate a mask for the upper triangle\n",
    "mask = np.triu(np.ones_like(corr_vacc, dtype=bool))\n",
    "\n",
    "# Set up the matplotlib figure\n",
    "f, ax = plt.subplots(figsize=(15, 15))\n",
    "\n",
    "sns.heatmap(corr_vacc, mask=mask, center=0, square=True, annot=True)"
   ]
  },
  {
   "cell_type": "markdown",
   "id": "3fdf6164",
   "metadata": {},
   "source": [
    "### Observations - `vacc`\n",
    "\n",
    "Almost all the attributes are strongly positively correlated. This makes intuitive sense as many of the attributes are subsets of the total doses administered in a single day."
   ]
  },
  {
   "cell_type": "markdown",
   "id": "04bdafe2",
   "metadata": {},
   "source": [
    "***\n",
    "<a id='Preprocessing'></a>\n",
    "## 6. Preprocessing\n",
    "\n",
    "1. Continuum cubic spline curve interpolation"
   ]
  },
  {
   "cell_type": "markdown",
   "id": "d38bfcc8",
   "metadata": {},
   "source": [
    "### 6.1  Contituum cubic spline curve interpolation on 7-day average\n",
    "\n",
    "- The 7-day average for total daily number of cases is calculated\n",
    "- The values are then interpolated using a cubic spline curve\n",
    "- This is done to create a continuous function out of discrete points\n",
    "- The derivatives of the CS curve are plotted for smoothed out `Confirmed`, `Deaths` and `Recovered`"
   ]
  },
  {
   "cell_type": "markdown",
   "id": "4eaf037f",
   "metadata": {},
   "source": [
    "#### 6.1.1 Seven-day average of daily confirmed cases"
   ]
  },
  {
   "cell_type": "code",
   "execution_count": null,
   "id": "c648fef8",
   "metadata": {},
   "outputs": [],
   "source": [
    "# Find 7 day average of confirmed cases from delta_timeseries\n",
    "\n",
    "confirmed_7_day = delta_timeseries.Confirmed.rolling(7, min_periods=1).mean()\n",
    "confirmed_7_day = confirmed_7_day.reset_index()\n",
    "\n",
    "confirmed_7_day"
   ]
  },
  {
   "cell_type": "markdown",
   "id": "33e57440",
   "metadata": {},
   "source": [
    "#### Lineplot of smoothed (7-day-average) confirmed cases"
   ]
  },
  {
   "cell_type": "code",
   "execution_count": null,
   "id": "a05ba5b7",
   "metadata": {},
   "outputs": [],
   "source": [
    "confirmed_7_day.plot(x='Date', figsize=(8, 8))"
   ]
  },
  {
   "cell_type": "markdown",
   "id": "f9814fad",
   "metadata": {},
   "source": [
    "#### Cubic Spline Curve Interpolation"
   ]
  },
  {
   "cell_type": "code",
   "execution_count": null,
   "id": "4e26490e",
   "metadata": {
    "scrolled": true
   },
   "outputs": [],
   "source": [
    "confirmed_7_day = confirmed_7_day.loc[confirmed_7_day['Confirmed'].notnull()]\n",
    "confirmed_7_day['Date_delta'] = (pd.to_datetime(confirmed_7_day['Date']) - pd.to_datetime(confirmed_7_day['Date']).min())  / np.timedelta64(1,'D')\n",
    "\n",
    "cs_confirmed = CubicSpline(confirmed_7_day.Date_delta, confirmed_7_day.Confirmed)"
   ]
  },
  {
   "cell_type": "markdown",
   "id": "8b07b0d4",
   "metadata": {},
   "source": [
    "#### Plot of DC (Daily Confirmed)"
   ]
  },
  {
   "cell_type": "code",
   "execution_count": null,
   "id": "92ffa240",
   "metadata": {},
   "outputs": [],
   "source": [
    "fig, ax = plt.subplots(figsize=(8, 8))\n",
    "\n",
    "ax.plot(confirmed_7_day['Date_delta'], cs_confirmed(confirmed_7_day['Date_delta']), label='Daily cases (DC)')"
   ]
  },
  {
   "cell_type": "markdown",
   "id": "b9c7caeb",
   "metadata": {},
   "source": [
    "#### Plot of DC' (First derivative of Daily Confirmed)"
   ]
  },
  {
   "cell_type": "code",
   "execution_count": null,
   "id": "4b3d6213",
   "metadata": {},
   "outputs": [],
   "source": [
    "fig, ax = plt.subplots(figsize=(8, 8))\n",
    "\n",
    "ax.plot(confirmed_7_day['Date_delta'], cs_confirmed(confirmed_7_day['Date_delta'], 1), label='First derivative of DC')"
   ]
  },
  {
   "cell_type": "markdown",
   "id": "27f2cdbc",
   "metadata": {},
   "source": [
    "#### 6.1.2 Seven-day average of daily deaths"
   ]
  },
  {
   "cell_type": "code",
   "execution_count": null,
   "id": "06d93931",
   "metadata": {},
   "outputs": [],
   "source": [
    "# Find 7 day average of deaths from delta_timeseries\n",
    "\n",
    "deaths_7_day = delta_timeseries.Deaths.rolling(7, min_periods=1).mean()\n",
    "deaths_7_day = deaths_7_day.reset_index()\n",
    "\n",
    "deaths_7_day"
   ]
  },
  {
   "cell_type": "markdown",
   "id": "4eaafd51",
   "metadata": {},
   "source": [
    "#### Lineplot of smoothed (7-day-average) deaths"
   ]
  },
  {
   "cell_type": "code",
   "execution_count": null,
   "id": "efddf479",
   "metadata": {},
   "outputs": [],
   "source": [
    "deaths_7_day.plot(x='Date', figsize=(8, 8))"
   ]
  },
  {
   "cell_type": "markdown",
   "id": "79a1af66",
   "metadata": {},
   "source": [
    "#### Cubic Spline Curve Interpolation"
   ]
  },
  {
   "cell_type": "code",
   "execution_count": null,
   "id": "e0b4b826",
   "metadata": {},
   "outputs": [],
   "source": [
    "deaths_7_day = deaths_7_day.loc[deaths_7_day['Deaths'].notnull()]\n",
    "deaths_7_day['Date_delta'] = (pd.to_datetime(deaths_7_day['Date']) - pd.to_datetime(deaths_7_day['Date']).min())  / np.timedelta64(1,'D')\n",
    "\n",
    "cs_deaths = CubicSpline(deaths_7_day.Date_delta, deaths_7_day.Deaths)"
   ]
  },
  {
   "cell_type": "markdown",
   "id": "ca2d79bd",
   "metadata": {},
   "source": [
    "#### Plot of DD (Daily Deaths)"
   ]
  },
  {
   "cell_type": "code",
   "execution_count": null,
   "id": "cde549cf",
   "metadata": {},
   "outputs": [],
   "source": [
    "fig, ax = plt.subplots(figsize=(8, 8))\n",
    "\n",
    "ax.plot(deaths_7_day['Date_delta'], cs_deaths(deaths_7_day['Date_delta']), label='Daily Deaths (DD)')"
   ]
  },
  {
   "cell_type": "markdown",
   "id": "cf70cf9b",
   "metadata": {},
   "source": [
    "#### Plot of DD' (First derivative of DD)"
   ]
  },
  {
   "cell_type": "code",
   "execution_count": null,
   "id": "c33c03e5",
   "metadata": {
    "scrolled": true
   },
   "outputs": [],
   "source": [
    "fig, ax = plt.subplots(figsize=(8, 8))\n",
    "\n",
    "ax.plot(deaths_7_day['Date_delta'], cs_deaths(deaths_7_day['Date_delta'], 1), label='First derivative of DD')"
   ]
  },
  {
   "cell_type": "markdown",
   "id": "9677f882",
   "metadata": {},
   "source": [
    "#### 6.1.3 Seven-day average of daily recoveries"
   ]
  },
  {
   "cell_type": "code",
   "execution_count": null,
   "id": "51bd65a1",
   "metadata": {},
   "outputs": [],
   "source": [
    "# Find 7 day average of recovered cases from delta_timeseries\n",
    "\n",
    "rec_7_day = rec_delta_timeseries.Recovered.rolling(7, min_periods=1).mean()\n",
    "rec_7_day = rec_7_day.reset_index()\n",
    "\n",
    "rec_7_day"
   ]
  },
  {
   "cell_type": "markdown",
   "id": "cfda1b97",
   "metadata": {},
   "source": [
    "#### Lineplot of smoothed (7-day-average) recoveries"
   ]
  },
  {
   "cell_type": "code",
   "execution_count": null,
   "id": "11a3a73a",
   "metadata": {},
   "outputs": [],
   "source": [
    "rec_7_day.plot(x='Date', figsize=(8, 8))"
   ]
  },
  {
   "cell_type": "markdown",
   "id": "8c507706",
   "metadata": {},
   "source": [
    "#### Cubic Spline Curve Interpolation"
   ]
  },
  {
   "cell_type": "code",
   "execution_count": null,
   "id": "6f04bd55",
   "metadata": {},
   "outputs": [],
   "source": [
    "rec_7_day = rec_7_day.loc[rec_7_day['Recovered'].notnull()]\n",
    "rec_7_day['Date_delta'] = (pd.to_datetime(rec_7_day['Date']) - pd.to_datetime(rec_7_day['Date']).min())  / np.timedelta64(1,'D')\n",
    "\n",
    "cs_rec = CubicSpline(rec_7_day.Date_delta, rec_7_day.Recovered)"
   ]
  },
  {
   "cell_type": "markdown",
   "id": "e6a6059c",
   "metadata": {},
   "source": [
    "#### Plot of DR (Daily Recoveries)"
   ]
  },
  {
   "cell_type": "code",
   "execution_count": null,
   "id": "2d860a55",
   "metadata": {},
   "outputs": [],
   "source": [
    "fig, ax = plt.subplots(figsize=(8, 8))\n",
    "\n",
    "ax.plot(rec_7_day['Date_delta'], cs_rec(rec_7_day['Date_delta']), label='Daily Recoveries (DR)')"
   ]
  },
  {
   "cell_type": "markdown",
   "id": "adac3ad0",
   "metadata": {},
   "source": [
    "#### Plot of DR' (First derivative of DR)"
   ]
  },
  {
   "cell_type": "code",
   "execution_count": null,
   "id": "53b2f029",
   "metadata": {},
   "outputs": [],
   "source": [
    "fig, ax = plt.subplots(figsize=(8, 8))\n",
    "\n",
    "ax.plot(rec_7_day['Date_delta'], cs_rec(rec_7_day['Date_delta'], 1), label='First derivative of DR')"
   ]
  },
  {
   "cell_type": "markdown",
   "id": "d8297533",
   "metadata": {},
   "source": [
    "***\n",
    "<a id='Conclusion'></a>\n",
    "## 7. Conclusion \n",
    "\n",
    "- How many rows and attributes?\n",
    "    - Size of cases in india is: `(18214, 22)`.\n",
    "    - Size of vaccinations in india is: `(9990, 24)`.\n",
    "- How many missing data and outliers?\n",
    "    - `153446` missing elements for cases.\n",
    "    - `73305` missing elements for vaccines.\n",
    "- Any inconsistent, incomplete, duplicate or incorrect data?\n",
    "    - All values in cases and vaccines are unique.\n",
    "    - Cases in india contains `18214` incomplete rows.\n",
    "    - Vaccinations in india contains `9990` incomplete rows.\n",
    "- Are the variables correlated to each other?\n",
    "    - The `Recovered`, `Confirmed` and `Deaths` columns in `cases` are strongly positively correlated.\n",
    "    - Almost all attributes in `vacc` are strongly positively correlated.\n",
    "\n",
    "- Are any of the preprocessing techniques needed: rolling average, continuum cubic spline curve, dimensionality reduction, range transformation, standardization, etc.?\n",
    "    - Using the 7-day rolling average of the daily `Confirmed`, `Deaths` and `Recovered` shows a smoother plot with less noise.\n",
    "    - Calculating the continuum cubic spline curve allows us to differentiate the function and find the instantaneous slope.\n",
    "\n",
    "- Does PCA help visualize the data? Do we get any insights from histograms/bar charts/line plots, etc.?"
   ]
  },
  {
   "cell_type": "code",
   "execution_count": null,
   "id": "07a1c59c",
   "metadata": {},
   "outputs": [],
   "source": []
  }
 ],
 "metadata": {
  "interpreter": {
   "hash": "c5770589393bb4cc1bcef6443da766cd4406ee5c470484c1f8aa1e37ee4da54c"
  },
  "kernelspec": {
   "display_name": "Python 3",
   "language": "python",
   "name": "python3"
  },
  "language_info": {
   "codemirror_mode": {
    "name": "ipython",
    "version": 3
   },
   "file_extension": ".py",
   "mimetype": "text/x-python",
   "name": "python",
   "nbconvert_exporter": "python",
   "pygments_lexer": "ipython3",
   "version": "3.7.3"
  }
 },
 "nbformat": 4,
 "nbformat_minor": 5
}
