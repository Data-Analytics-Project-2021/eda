{
 "cells": [
  {
   "cell_type": "markdown",
   "id": "ca846c76",
   "metadata": {},
   "source": [
    "# EDA India"
   ]
  },
  {
   "cell_type": "code",
   "execution_count": null,
   "id": "2462f92f",
   "metadata": {},
   "outputs": [],
   "source": [
    "!pip install seaborn"
   ]
  },
  {
   "cell_type": "code",
   "execution_count": null,
   "id": "fc051f8f",
   "metadata": {},
   "outputs": [],
   "source": [
    "import os\n",
    "from datetime import datetime\n",
    "import pandas as pd\n",
    "import seaborn as sns\n",
    "import matplotlib.pyplot as plt\n",
    "import numpy as np\n",
    "from scipy import stats"
   ]
  },
  {
   "cell_type": "markdown",
   "id": "26d55b7d",
   "metadata": {},
   "source": [
    "## 1. Data Ingestion"
   ]
  },
  {
   "cell_type": "markdown",
   "id": "da5242d4",
   "metadata": {},
   "source": [
    "### 1.1 Getting daily state-wise cases for India"
   ]
  },
  {
   "cell_type": "code",
   "execution_count": null,
   "id": "3d4e5060",
   "metadata": {},
   "outputs": [],
   "source": [
    "cases = pd.read_csv(\"india_cases_12-10-2021.csv\")\n",
    "cases"
   ]
  },
  {
   "cell_type": "markdown",
   "id": "f2877872",
   "metadata": {},
   "source": [
    "### 1.2  Getting daily state-wise vaccinations for India"
   ]
  },
  {
   "cell_type": "code",
   "execution_count": null,
   "id": "1e19d314",
   "metadata": {},
   "outputs": [],
   "source": [
    "vacc = pd.read_csv(\"india_vaccines_12-10-2021.csv\")\n",
    "vacc"
   ]
  },
  {
   "cell_type": "markdown",
   "id": "9c8aa9c6",
   "metadata": {},
   "source": [
    "# 2. Summary statistics\n",
    "\n",
    "## 2.1 How many rows and attributes?\n",
    "\n",
    "The dimensions are `(18214, 22)`for the cases and `(9990, 24)` for vaccines."
   ]
  },
  {
   "cell_type": "code",
   "execution_count": null,
   "id": "ad580c53",
   "metadata": {},
   "outputs": [],
   "source": [
    "# Summary statistics for cases in India\n",
    "cases.describe()"
   ]
  },
  {
   "cell_type": "code",
   "execution_count": null,
   "id": "a4c29dbb",
   "metadata": {},
   "outputs": [],
   "source": [
    "# Summary statistics for vaccines in India\n",
    "vacc.describe()"
   ]
  },
  {
   "cell_type": "markdown",
   "id": "a5748f60",
   "metadata": {},
   "source": [
    "## 2.2 How many missing data and outliers? "
   ]
  },
  {
   "cell_type": "code",
   "execution_count": null,
   "id": "1f2bcb4b",
   "metadata": {},
   "outputs": [],
   "source": [
    "# Provides the number of missing values for cases in India\n",
    "cases.isnull().sum()"
   ]
  },
  {
   "cell_type": "code",
   "execution_count": null,
   "id": "d775740d",
   "metadata": {},
   "outputs": [],
   "source": [
    "# Provides the number of missing values for vaccines in India\n",
    "vacc.isnull().sum()"
   ]
  },
  {
   "cell_type": "code",
   "execution_count": null,
   "id": "9a0da867",
   "metadata": {},
   "outputs": [],
   "source": [
    "sns.boxplot(cases['Confirmed'])"
   ]
  },
  {
   "cell_type": "code",
   "execution_count": null,
   "id": "ccd75239",
   "metadata": {
    "scrolled": true
   },
   "outputs": [],
   "source": [
    "sns.regplot(x=cases['Date'], y=cases['Confirmed'])\n",
    "plt.show()"
   ]
  },
  {
   "cell_type": "code",
   "execution_count": null,
   "id": "bb0b2a11",
   "metadata": {
    "scrolled": true
   },
   "outputs": [],
   "source": [
    "sns.regplot(x=cases['Date'], y=cases['Recovered'])\n",
    "plt.show()"
   ]
  },
  {
   "cell_type": "code",
   "execution_count": null,
   "id": "39e4819f",
   "metadata": {},
   "outputs": [],
   "source": [
    "z_confirm = np.abs(stats.zscore(cases['Confirmed']))\n",
    "print(z_confirm)"
   ]
  },
  {
   "cell_type": "code",
   "execution_count": null,
   "id": "722096ea",
   "metadata": {},
   "outputs": [],
   "source": [
    "z_adminstered = np.abs(stats.zscore(vacc['Total Doses Administered']))\n",
    "print(z_adminstered)"
   ]
  },
  {
   "cell_type": "code",
   "execution_count": null,
   "id": "185bc7d9",
   "metadata": {},
   "outputs": [],
   "source": [
    "threshold = 3\n",
    "print(np.where(z_confirm>3))"
   ]
  },
  {
   "cell_type": "code",
   "execution_count": null,
   "id": "70ca89fe",
   "metadata": {},
   "outputs": [],
   "source": [
    "np.where(z_adminstered>3)"
   ]
  },
  {
   "cell_type": "markdown",
   "id": "de9e0a96",
   "metadata": {},
   "source": [
    "## 2.3 Any Inconsistent, Incomplete, duplicate or incorrect data"
   ]
  },
  {
   "cell_type": "code",
   "execution_count": null,
   "id": "d21e3ffa",
   "metadata": {},
   "outputs": [],
   "source": [
    "cases.duplicated().sum()"
   ]
  },
  {
   "cell_type": "code",
   "execution_count": null,
   "id": "0058b248",
   "metadata": {},
   "outputs": [],
   "source": [
    "cases.isna().sum().sum()"
   ]
  }
 ],
 "metadata": {
  "kernelspec": {
   "display_name": "Python 3",
   "language": "python",
   "name": "python3"
  },
  "language_info": {
   "codemirror_mode": {
    "name": "ipython",
    "version": 3
   },
   "file_extension": ".py",
   "mimetype": "text/x-python",
   "name": "python",
   "nbconvert_exporter": "python",
   "pygments_lexer": "ipython3",
   "version": "3.6.9"
  }
 },
 "nbformat": 4,
 "nbformat_minor": 5
}
